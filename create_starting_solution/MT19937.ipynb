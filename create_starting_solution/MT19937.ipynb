{
 "cells": [
  {
   "cell_type": "code",
   "execution_count": 1,
   "metadata": {},
   "outputs": [],
   "source": [
    "# !pip install ipywidgets"
   ]
  },
  {
   "cell_type": "code",
   "execution_count": 2,
   "metadata": {},
   "outputs": [],
   "source": [
    "import random\n",
    "import ipywidgets as widgets\n",
    "from IPython.display import display\n",
    "import os\n",
    "\n",
    "def generateRandomNumbers(fileName, numNumbers, rangeMin, rangeMax, seed):\n",
    "    \"\"\"\n",
    "    Generate a file with random numbers using MT19937 (Mersenne Twister).\n",
    "    \n",
    "    Parameters:\n",
    "    - fileName (str): The name of the output file.\n",
    "    - numNumbers (int): The number of random numbers to generate.\n",
    "    - rangeMin (int): The minimum value in the range.\n",
    "    - rangeMax (int): The maximum value in the range.\n",
    "    - seed (int): Seed for the random number generator for reproducibility.\n",
    "    \"\"\"\n",
    "    # Set the seed if provided, or generate a random one\n",
    "    if seed == -1:  # Check if seed is \"-1\"\n",
    "        seed = random.randint(0, 4294967295) #2^32-1\n",
    "        print(f\"Randomly generated seed: {seed}\")\n",
    "    elif seed is not None:\n",
    "        random.seed(seed)\n",
    "\n",
    "    # Generate the numbers and write to the file\n",
    "    with open(fileName, 'w') as file:\n",
    "        for _ in range(numNumbers):\n",
    "            # Generate a random integer in the specified range\n",
    "            number = random.randint(rangeMin, rangeMax)\n",
    "            file.write(f\"{number}\\n\")\n",
    "    \n",
    "    print(f\"from {seed} generate {numNumbers} random numbers between {rangeMin} and {rangeMax} written to {fileName}.\")"
   ]
  },
  {
   "cell_type": "code",
   "execution_count": 3,
   "metadata": {},
   "outputs": [],
   "source": [
    "# Define the relative path to the output file within the repo\n",
    "relativePath = os.path.join(\"..\", \"random_number_sample\", \"generated_numbers.txt\")\n",
    "\n",
    "# Define a common style for label width\n",
    "labelStyle = {'description_width': 'initial'}\n",
    "\n",
    "# Create input widgets \n",
    "fileNameWidget = widgets.Text(\n",
    "    description=\"File Name:\",\n",
    "    value=relativePath,\n",
    "    layout=widgets.Layout(width=\"500px\"),\n",
    "    style=labelStyle\n",
    ")\n",
    "numNumbersWidget = widgets.IntText(\n",
    "    description=\"Numbers:\",\n",
    "    value=100000,\n",
    "    style=labelStyle\n",
    ")\n",
    "rangeMinWidget = widgets.IntText(\n",
    "    description=\"Min Range:\",\n",
    "    value=0,\n",
    "    style=labelStyle\n",
    ")\n",
    "rangeMaxWidget = widgets.IntText(\n",
    "    description=\"Max Range:\",\n",
    "    value=20000,\n",
    "    style=labelStyle\n",
    ")\n",
    "seedWidget = widgets.IntText(\n",
    "    description=\"Seed (-1=random):\",\n",
    "    value=-1,\n",
    "    style=labelStyle\n",
    ")"
   ]
  },
  {
   "cell_type": "code",
   "execution_count": 4,
   "metadata": {},
   "outputs": [],
   "source": [
    "# Define a function to handle the button click event\n",
    "def onButtonClick(b):\n",
    "    fileName = fileNameWidget.value\n",
    "    numNumbers = numNumbersWidget.value\n",
    "    rangeMin = rangeMinWidget.value\n",
    "    rangeMax = rangeMaxWidget.value\n",
    "    seed = seedWidget.value\n",
    "\n",
    "    # Validate that numNumbers is greater than 0\n",
    "    if numNumbers < 0:\n",
    "        print(\"\\nError: 'Numbers' must be greater than 0.\\n\")\n",
    "        return\n",
    "    else:\n",
    "        generateRandomNumbers(fileName, numNumbers, rangeMin, rangeMax, seed)"
   ]
  },
  {
   "cell_type": "code",
   "execution_count": 5,
   "metadata": {},
   "outputs": [
    {
     "data": {
      "application/vnd.jupyter.widget-view+json": {
       "model_id": "fd8ed12637074ccfa3188d0ef9fee2c3",
       "version_major": 2,
       "version_minor": 0
      },
      "text/plain": [
       "Text(value='..\\\\random_number_sample\\\\generated_numbers.txt', description='File Name:', layout=Layout(width='5…"
      ]
     },
     "metadata": {},
     "output_type": "display_data"
    },
    {
     "data": {
      "application/vnd.jupyter.widget-view+json": {
       "model_id": "91fa3640f4c14a3faeab6aa48b42cd1e",
       "version_major": 2,
       "version_minor": 0
      },
      "text/plain": [
       "IntText(value=100000, description='Numbers:', style=DescriptionStyle(description_width='initial'))"
      ]
     },
     "metadata": {},
     "output_type": "display_data"
    },
    {
     "data": {
      "application/vnd.jupyter.widget-view+json": {
       "model_id": "9747fead4f454e0f942e6dfd700f1fa9",
       "version_major": 2,
       "version_minor": 0
      },
      "text/plain": [
       "IntText(value=0, description='Min Range:', style=DescriptionStyle(description_width='initial'))"
      ]
     },
     "metadata": {},
     "output_type": "display_data"
    },
    {
     "data": {
      "application/vnd.jupyter.widget-view+json": {
       "model_id": "4ec2b562d2a146458539bcd8f3824bfa",
       "version_major": 2,
       "version_minor": 0
      },
      "text/plain": [
       "IntText(value=20000, description='Max Range:', style=DescriptionStyle(description_width='initial'))"
      ]
     },
     "metadata": {},
     "output_type": "display_data"
    },
    {
     "data": {
      "application/vnd.jupyter.widget-view+json": {
       "model_id": "f663561c2a66479d8097eaecd2f1b803",
       "version_major": 2,
       "version_minor": 0
      },
      "text/plain": [
       "IntText(value=-1, description='Seed (-1=random):', style=DescriptionStyle(description_width='initial'))"
      ]
     },
     "metadata": {},
     "output_type": "display_data"
    },
    {
     "data": {
      "application/vnd.jupyter.widget-view+json": {
       "model_id": "d7125983856346cfa289d628971c08f4",
       "version_major": 2,
       "version_minor": 0
      },
      "text/plain": [
       "Button(description='Generate Numbers', style=ButtonStyle())"
      ]
     },
     "metadata": {},
     "output_type": "display_data"
    }
   ],
   "source": [
    "# Create a button widget\n",
    "generateButton = widgets.Button(description=\"Generate Numbers\")\n",
    "generateButton.on_click(onButtonClick)\n",
    "\n",
    "# Display the widgets\n",
    "display(fileNameWidget, numNumbersWidget, rangeMinWidget, rangeMaxWidget, seedWidget, generateButton)"
   ]
  }
 ],
 "metadata": {
  "kernelspec": {
   "display_name": "Python 3",
   "language": "python",
   "name": "python3"
  },
  "language_info": {
   "codemirror_mode": {
    "name": "ipython",
    "version": 3
   },
   "file_extension": ".py",
   "mimetype": "text/x-python",
   "name": "python",
   "nbconvert_exporter": "python",
   "pygments_lexer": "ipython3",
   "version": "3.11.9"
  }
 },
 "nbformat": 4,
 "nbformat_minor": 2
}
