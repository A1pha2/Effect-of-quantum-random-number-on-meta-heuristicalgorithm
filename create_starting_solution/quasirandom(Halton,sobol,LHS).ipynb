{
 "cells": [
  {
   "cell_type": "code",
   "execution_count": 7,
   "metadata": {},
   "outputs": [],
   "source": [
    "import numpy as np\n",
    "from scipy.stats import qmc\n",
    "import ipywidgets as widgets\n",
    "from IPython.display import display\n",
    "import os\n",
    "import random"
   ]
  },
  {
   "cell_type": "code",
   "execution_count": 8,
   "metadata": {},
   "outputs": [],
   "source": [
    "# Define the relative path to the output file within the repo\n",
    "relativePath = os.path.join(\"..\", \"random_number_sample\", \"generated_numbers_2D.txt\")"
   ]
  },
  {
   "cell_type": "code",
   "execution_count": 9,
   "metadata": {},
   "outputs": [],
   "source": [
    "# Define the function to generate quasirandom numbers\n",
    "def generateQuasiRandom(fileName, quasirandomType, numDimensions, numNumbers, rangeMin, rangeMax, seed):\n",
    "    # Define range scaling function\n",
    "    def scaleRange(samples, rangeMin, rangeMax):\n",
    "        return samples * (rangeMax - rangeMin) + rangeMin\n",
    "    if seed == -1:  # Check if seed is \"-1\"\n",
    "        seed = random.randint(0, 4294967295) #2^32-1\n",
    "        print(f\"Randomly generated seed: {seed}\")\n",
    "\n",
    "    # Generate quasirandom numbers based on selected type\n",
    "    if quasirandomType == \"Halton\":\n",
    "        sampler = qmc.Halton(d=numDimensions, seed=seed) #, scramble=True\n",
    "        samples = sampler.random(numNumbers)\n",
    "    # sobol require atleast 2 dim 1 is posible (normals use for power of 2 ex. 128 256 512 1024)\n",
    "    elif quasirandomType == \"Sobol\": \n",
    "        sampler = qmc.Sobol(d=numDimensions, seed=seed) #, scramble=True\n",
    "        samples = sampler.random_base2(numNumbers)\n",
    "    elif quasirandomType == \"LHS\":\n",
    "        sampler = qmc.LatinHypercube(d=numDimensions, seed=seed)\n",
    "        samples = sampler.random(numNumbers)\n",
    "    # for safety\n",
    "    else:\n",
    "        print(\"Unsupported quasirandom type.\")\n",
    "        return\n",
    "    \n",
    "    # Scale samples to the specified range\n",
    "    scaledSamples = scaleRange(samples, rangeMin, rangeMax)\n",
    "    \n",
    "    # Save to file\n",
    "    np.savetxt(fileName, scaledSamples, delimiter=',', comments='')\n",
    "    print(f\"from {seed} use {quasirandomType} to generate {numNumbers} quasirandom numbers between {rangeMin} and {rangeMax} written to written to {fileName}.\")"
   ]
  },
  {
   "cell_type": "code",
   "execution_count": 10,
   "metadata": {},
   "outputs": [],
   "source": [
    "# Define a common style for label width\n",
    "labelStyle = {'description_width': 'initial'}\n",
    "\n",
    "# Create widgets for input\n",
    "fileNameWidget = widgets.Text(description=\"File Name:\", value=relativePath, layout=widgets.Layout(width=\"500px\"), style=labelStyle)\n",
    "quasiTypeWidget = widgets.Dropdown(options=[\"Halton\", \"Sobol\", \"LHS\"], description=\"Type:\", style=labelStyle)\n",
    "numDimensionsWidget = widgets.IntText(description=\"Dimensions:\", value=2, style=labelStyle)\n",
    "numNumbersWidget = widgets.IntText(description=\"Number(sobol:2 power this number):\", value=100000, style=labelStyle)\n",
    "rangeMinWidget = widgets.IntText(description=\"Min Range:\", value=0, style=labelStyle)\n",
    "rangeMaxWidget = widgets.IntText(description=\"Max Range:\", value=20000, style=labelStyle)\n",
    "seedWidget = widgets.IntText(description=\"Seed (-1=random):\", value=-1, style=labelStyle)"
   ]
  },
  {
   "cell_type": "code",
   "execution_count": 11,
   "metadata": {},
   "outputs": [],
   "source": [
    "# Define function for button click\n",
    "def onButtonClick(b):\n",
    "    fileName = fileNameWidget.value\n",
    "    quasirandomType = quasiTypeWidget.value\n",
    "    numDimensions = numDimensionsWidget.value\n",
    "    numNumbers = numNumbersWidget.value\n",
    "    rangeMin = rangeMinWidget.value\n",
    "    rangeMax = rangeMaxWidget.value\n",
    "    seed = seedWidget.value\n",
    "\n",
    "    # Validate that numNumbers is greater than 0 \n",
    "    if numNumbers < 0 or numDimensions < 0:\n",
    "        if numNumbers < 0:\n",
    "            print(\"\\nError: 'Numbers' must be greater than 0.\\n\")\n",
    "            return\n",
    "        if numDimensions < 0:\n",
    "            print(\"\\nError: 'numDimensions' must be greater than 0.\\n\")\n",
    "            return\n",
    "    else:\n",
    "        generateQuasiRandom(fileName, quasirandomType, numDimensions, numNumbers, rangeMin, rangeMax, seed)"
   ]
  },
  {
   "cell_type": "code",
   "execution_count": 12,
   "metadata": {},
   "outputs": [
    {
     "data": {
      "application/vnd.jupyter.widget-view+json": {
       "model_id": "716964d4c0b14ccfb34c83631fc79983",
       "version_major": 2,
       "version_minor": 0
      },
      "text/plain": [
       "Text(value='..\\\\random_number_sample\\\\generated_numbers_2D.txt', description='File Name:', layout=Layout(width…"
      ]
     },
     "metadata": {},
     "output_type": "display_data"
    },
    {
     "data": {
      "application/vnd.jupyter.widget-view+json": {
       "model_id": "5ad6431eb95840d1ac35016af91246b1",
       "version_major": 2,
       "version_minor": 0
      },
      "text/plain": [
       "Dropdown(description='Type:', options=('Halton', 'Sobol', 'LHS'), style=DescriptionStyle(description_width='in…"
      ]
     },
     "metadata": {},
     "output_type": "display_data"
    },
    {
     "data": {
      "application/vnd.jupyter.widget-view+json": {
       "model_id": "9385afdfa3ab42bfa5227b62796d6080",
       "version_major": 2,
       "version_minor": 0
      },
      "text/plain": [
       "IntText(value=2, description='Dimensions:', style=DescriptionStyle(description_width='initial'))"
      ]
     },
     "metadata": {},
     "output_type": "display_data"
    },
    {
     "data": {
      "application/vnd.jupyter.widget-view+json": {
       "model_id": "05a1d9d94e444c1380f139c457dfcae0",
       "version_major": 2,
       "version_minor": 0
      },
      "text/plain": [
       "IntText(value=100000, description='Number(sobol:2 power this number):', style=DescriptionStyle(description_wid…"
      ]
     },
     "metadata": {},
     "output_type": "display_data"
    },
    {
     "data": {
      "application/vnd.jupyter.widget-view+json": {
       "model_id": "42b4f3c91309470d834c6460e3f2416a",
       "version_major": 2,
       "version_minor": 0
      },
      "text/plain": [
       "IntText(value=0, description='Min Range:', style=DescriptionStyle(description_width='initial'))"
      ]
     },
     "metadata": {},
     "output_type": "display_data"
    },
    {
     "data": {
      "application/vnd.jupyter.widget-view+json": {
       "model_id": "0d1bfc56b5524e32aeb4b68eeb1f3c81",
       "version_major": 2,
       "version_minor": 0
      },
      "text/plain": [
       "IntText(value=20000, description='Max Range:', style=DescriptionStyle(description_width='initial'))"
      ]
     },
     "metadata": {},
     "output_type": "display_data"
    },
    {
     "data": {
      "application/vnd.jupyter.widget-view+json": {
       "model_id": "37bf4654cb2549f987f44f165fa30a36",
       "version_major": 2,
       "version_minor": 0
      },
      "text/plain": [
       "IntText(value=-1, description='Seed (-1=random):', style=DescriptionStyle(description_width='initial'))"
      ]
     },
     "metadata": {},
     "output_type": "display_data"
    },
    {
     "data": {
      "application/vnd.jupyter.widget-view+json": {
       "model_id": "d28c550e454a431e803c3d90dfc13404",
       "version_major": 2,
       "version_minor": 0
      },
      "text/plain": [
       "Button(description='Generate Numbers', style=ButtonStyle())"
      ]
     },
     "metadata": {},
     "output_type": "display_data"
    }
   ],
   "source": [
    "# Create button\n",
    "generateButton = widgets.Button(description=\"Generate Numbers\")\n",
    "generateButton.on_click(onButtonClick)\n",
    "\n",
    "# Display the widgets\n",
    "display(fileNameWidget, quasiTypeWidget, numDimensionsWidget, numNumbersWidget, rangeMinWidget, rangeMaxWidget, seedWidget, generateButton)"
   ]
  }
 ],
 "metadata": {
  "kernelspec": {
   "display_name": "Python 3",
   "language": "python",
   "name": "python3"
  },
  "language_info": {
   "codemirror_mode": {
    "name": "ipython",
    "version": 3
   },
   "file_extension": ".py",
   "mimetype": "text/x-python",
   "name": "python",
   "nbconvert_exporter": "python",
   "pygments_lexer": "ipython3",
   "version": "3.11.9"
  }
 },
 "nbformat": 4,
 "nbformat_minor": 2
}
