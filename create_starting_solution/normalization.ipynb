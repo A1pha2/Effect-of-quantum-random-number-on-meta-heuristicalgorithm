{
 "cells": [
  {
   "cell_type": "code",
   "execution_count": 1,
   "metadata": {},
   "outputs": [],
   "source": [
    "import os\n",
    "import ipywidgets as widgets\n",
    "from IPython.display import display"
   ]
  },
  {
   "cell_type": "code",
   "execution_count": 2,
   "metadata": {},
   "outputs": [],
   "source": [
    "def normalize_and_save_bitstream(filePath, outputFilePath, bit_size=16):\n",
    "    \"\"\"\n",
    "    Normalize the bitstream data from the input file to be between 0 and 1 and save to the output file.\n",
    "\n",
    "    Parameters:\n",
    "    - filePath (str): Path to the file containing the bitstream.\n",
    "    - outputFilePath (str): Path to save the normalized data.\n",
    "    - bit_size (int): Size of each group of bits to process. Default is 16 bits.\n",
    "    \"\"\"\n",
    "    print(\"Processing bitstream and normalizing data...\")\n",
    "    \n",
    "    # Read the bitstream from the file\n",
    "    with open(filePath, 'r') as file:\n",
    "        bitstream = file.read().replace(\"\\n\", \"\").strip()  # Remove newlines and spaces\n",
    "\n",
    "    # Ensure the length is divisible by bit_size\n",
    "    num_bits = len(bitstream)\n",
    "    usable_bits = num_bits - (num_bits % bit_size)\n",
    "    truncated_bitstream = bitstream[:usable_bits]\n",
    "\n",
    "    # Split into `bit_size` chunks\n",
    "    chunks = [truncated_bitstream[i:i+bit_size] for i in range(0, usable_bits, bit_size)]\n",
    "\n",
    "    # Convert each chunk to decimal and normalize\n",
    "    max_value = 2**bit_size - 1  # Max possible value for `bit_size` bits\n",
    "    normalized_values = [int(chunk, 2) / max_value for chunk in chunks]\n",
    "\n",
    "    # Save the normalized values to the output file\n",
    "    with open(outputFilePath, 'w') as outputFile:\n",
    "        for value in normalized_values:\n",
    "            outputFile.write(f\"{value}\\n\")\n",
    "\n",
    "    print(f\"Normalized data saved to {outputFilePath}\")\n"
   ]
  },
  {
   "cell_type": "code",
   "execution_count": 3,
   "metadata": {},
   "outputs": [],
   "source": [
    "def save_normalized_file(original_path):\n",
    "    # Extract the part after 'database\\'\n",
    "    base_data_index = original_path.find('database\\\\') + len('database\\\\')\n",
    "    extracted_part = original_path[base_data_index:]\n",
    "\n",
    "    # Create the new path with 'normalized\\' and '_normalized'\n",
    "    new_path = os.path.join('normalized', extracted_part)\n",
    "    new_path = new_path.replace('.txt', '_normalized.txt')  # Assuming the file extension is .txt\n",
    "\n",
    "    # Save the file (this is just a placeholder, replace with actual save logic)\n",
    "    with open(new_path, 'w') as file:\n",
    "        file.write(\"Normalized data\")\n",
    "\n",
    "    return new_path"
   ]
  },
  {
   "cell_type": "code",
   "execution_count": 4,
   "metadata": {},
   "outputs": [],
   "source": [
    "# File path text input widget\n",
    "file_path_widget = widgets.Text(\n",
    "    value='database\\ ',\n",
    "    placeholder='Enter the path to the .txt file',\n",
    "    description='File path:',\n",
    "    style={'description_width': 'initial'}\n",
    ")\n",
    "\n",
    "# # Output file name widget\n",
    "# output_name_widget = widgets.Text(\n",
    "#     value='normalized\\ ',\n",
    "#     placeholder='Enter output file name',\n",
    "#     description='Save as:',\n",
    "#     style={'description_width': 'initial'}\n",
    "# )\n",
    "\n",
    "bit_size_widget = widgets.Text(\n",
    "    value='16 ',\n",
    "    placeholder='Enter binary to decimle bit size',\n",
    "    description='bit size:',\n",
    "    style={'description_width': 'initial'}\n",
    ")"
   ]
  },
  {
   "cell_type": "code",
   "execution_count": null,
   "metadata": {},
   "outputs": [
    {
     "data": {
      "application/vnd.jupyter.widget-view+json": {
       "model_id": "db9e34968fb84235a3e5eb1b0293897a",
       "version_major": 2,
       "version_minor": 0
      },
      "text/plain": [
       "Text(value='database\\\\ ', description='File path:', placeholder='Enter the path to the .txt file', style=TextS…"
      ]
     },
     "metadata": {},
     "output_type": "display_data"
    },
    {
     "data": {
      "application/vnd.jupyter.widget-view+json": {
       "model_id": "ad0c8d6dbd7c4854aa37a0a770ef7b78",
       "version_major": 2,
       "version_minor": 0
      },
      "text/plain": [
       "Text(value='16 ', description='bit size:', placeholder='Enter binary to decimle bit size', style=TextStyle(des…"
      ]
     },
     "metadata": {},
     "output_type": "display_data"
    },
    {
     "data": {
      "application/vnd.jupyter.widget-view+json": {
       "model_id": "5c628ac3215948bba0c8fe748441524f",
       "version_major": 2,
       "version_minor": 0
      },
      "text/plain": [
       "Button(description='Normalize and Save', style=ButtonStyle())"
      ]
     },
     "metadata": {},
     "output_type": "display_data"
    },
    {
     "data": {
      "application/vnd.jupyter.widget-view+json": {
       "model_id": "fe40154484564a5ab8014c2b60815b5b",
       "version_major": 2,
       "version_minor": 0
      },
      "text/plain": [
       "Output()"
      ]
     },
     "metadata": {},
     "output_type": "display_data"
    }
   ],
   "source": [
    "# Button to trigger normalization\n",
    "normalize_button = widgets.Button(description=\"Normalize and Save\")\n",
    "\n",
    "# Output area for messages\n",
    "output = widgets.Output()\n",
    "\n",
    "def on_normalize_clicked(b):\n",
    "    with output:\n",
    "        output.clear_output()  # Clear previous output\n",
    "        file_path = file_path_widget.value\n",
    "        if file_path:\n",
    "            if not file_path.endswith('.txt'):\n",
    "                print(\"Error: Please select a .txt file.\")\n",
    "                return\n",
    "            if not os.path.exists(file_path):\n",
    "                print(\"Error: File does not exist.\")\n",
    "                return\n",
    "            \n",
    "            # Normalize and save\n",
    "            # output_file_name = output_name_widget.value\n",
    "            output_file_name = save_normalized_file(file_path)\n",
    "            bit_size = int(bit_size_widget.value)\n",
    "            normalize_and_save_bitstream(file_path, output_file_name, bit_size)\n",
    "        else:\n",
    "            print(\"Please enter the file path before proceeding.\")\n",
    "\n",
    "\n",
    "# Attach the event handler\n",
    "normalize_button.on_click(on_normalize_clicked)\n",
    "\n",
    "# Display widgets\n",
    "display(file_path_widget, bit_size_widget, normalize_button, output)"
   ]
  }
 ],
 "metadata": {
  "kernelspec": {
   "display_name": "Python 3",
   "language": "python",
   "name": "python3"
  },
  "language_info": {
   "codemirror_mode": {
    "name": "ipython",
    "version": 3
   },
   "file_extension": ".py",
   "mimetype": "text/x-python",
   "name": "python",
   "nbconvert_exporter": "python",
   "pygments_lexer": "ipython3",
   "version": "3.11.9"
  }
 },
 "nbformat": 4,
 "nbformat_minor": 2
}
