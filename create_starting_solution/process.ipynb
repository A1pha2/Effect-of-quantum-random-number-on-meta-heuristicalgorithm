{
 "cells": [
  {
   "cell_type": "code",
   "execution_count": 3,
   "id": "2e71c820",
   "metadata": {},
   "outputs": [],
   "source": [
    "def convert_floats_to_bitstream(inputFilePath, outputFilePath, bit_size=16):\n",
    "    \"\"\"\n",
    "    Convert float values to integers with custom rounding and generate a bitstream.\n",
    "\n",
    "    Parameters:\n",
    "    - inputFilePath (str): Path to the file containing float values.\n",
    "    - outputFilePath (str): Path to save the 16-bit bitstream.\n",
    "    - bit_size (int): Size of the bit representation (default: 16).\n",
    "    \"\"\"\n",
    "    bitstream = []\n",
    "\n",
    "    with open(inputFilePath, 'r') as file:\n",
    "        lines = file.readlines()\n",
    "\n",
    "        for line in lines:\n",
    "            try:\n",
    "                num = float(line.strip())\n",
    "\n",
    "                # Custom rounding: >= 0.5 round up, else down\n",
    "                rounded = int(num)+1 if num % 1 >= 0.5 else int(num)\n",
    "\n",
    "                # Clip to 16-bit unsigned max value if necessary\n",
    "                rounded = max(0, min(rounded, 2**bit_size - 1))\n",
    "\n",
    "                # Convert to binary string with leading zeros\n",
    "                bit = format(rounded, f'0{bit_size}b')\n",
    "                bitstream.append(bit)\n",
    "\n",
    "            except ValueError:\n",
    "                continue  # skip invalid lines\n",
    "\n",
    "    # Join all binary strings and save to file\n",
    "    with open(outputFilePath, 'w') as out_file:\n",
    "        out_file.write(''.join(bitstream))\n",
    "\n",
    "    print(f\"Bitstream saved to {outputFilePath}\")\n"
   ]
  },
  {
   "cell_type": "code",
   "execution_count": 4,
   "id": "09245e8b",
   "metadata": {},
   "outputs": [
    {
     "name": "stdout",
     "output_type": "stream",
     "text": [
      "Bitstream saved to database/quasirandom_16_number_stream.txt\n"
     ]
    }
   ],
   "source": [
    "convert_floats_to_bitstream(\"random_number_sample/quasi_16.txt\", \"database/quasirandom_16_number_stream.txt\")\n"
   ]
  },
  {
   "cell_type": "code",
   "execution_count": 5,
   "id": "5c452504",
   "metadata": {},
   "outputs": [],
   "source": [
    "def convert_integer_file_to_bitstream(inputFilePath, outputFilePath, bit_size=16):\n",
    "    \"\"\"\n",
    "    Convert a file of integers to a 16-bit binary bitstream and save to a file.\n",
    "\n",
    "    Parameters:\n",
    "    - inputFilePath (str): Path to the file containing integer values.\n",
    "    - outputFilePath (str): Path to save the final bitstream.\n",
    "    - bit_size (int): Number of bits per integer (default: 16).\n",
    "    \"\"\"\n",
    "    bitstream = []\n",
    "\n",
    "    with open(inputFilePath, 'r') as file:\n",
    "        for line in file:\n",
    "            try:\n",
    "                num = int(line.strip())\n",
    "\n",
    "                # Ensure it's within 16-bit range (0 to 65535)\n",
    "                if 0 <= num <= 2**bit_size - 1:\n",
    "                    bit = format(num, f'0{bit_size}b')\n",
    "                    bitstream.append(bit)\n",
    "                else:\n",
    "                    print(f\"Warning: Value {num} exceeds 16-bit range. Skipped.\")\n",
    "\n",
    "            except ValueError:\n",
    "                continue  # Skip invalid lines\n",
    "\n",
    "    # Save bitstream to output file as a single line\n",
    "    with open(outputFilePath, 'w') as out_file:\n",
    "        out_file.write(''.join(bitstream))\n",
    "\n",
    "    print(f\"Bitstream saved to {outputFilePath}\")\n"
   ]
  },
  {
   "cell_type": "code",
   "execution_count": 6,
   "id": "808723f2",
   "metadata": {},
   "outputs": [
    {
     "name": "stdout",
     "output_type": "stream",
     "text": [
      "Bitstream saved to database/mt19937_16_number_stream.txt\n"
     ]
    }
   ],
   "source": [
    "convert_integer_file_to_bitstream(\"random_number_sample/mt19937_16.txt\", \"database/mt19937_16_number_stream.txt\")\n"
   ]
  },
  {
   "cell_type": "code",
   "execution_count": 2,
   "id": "6cd6d17c",
   "metadata": {},
   "outputs": [],
   "source": [
    "def convert_float_file_to_bitstream(inputFilePath, outputFilePath, bit_size=16):\n",
    "    \"\"\"\n",
    "    Convert a file of floats to a rounded 16-bit integer bitstream and save to a file.\n",
    "\n",
    "    Parameters:\n",
    "    - inputFilePath (str): Path to the file containing float values.\n",
    "    - outputFilePath (str): Path to save the final bitstream.\n",
    "    - bit_size (int): Number of bits per integer (default: 16).\n",
    "    \"\"\"\n",
    "    bitstream = []\n",
    "\n",
    "    with open(inputFilePath, 'r') as file:\n",
    "        for line in file:\n",
    "            try:\n",
    "                num = float(line.strip())\n",
    "                rounded = int(num + 0.5)  # round up if >= .5, else down\n",
    "\n",
    "                if 0 <= rounded <= 2**bit_size - 1:\n",
    "                    bit = format(rounded, f'0{bit_size}b')\n",
    "                    bitstream.append(bit)\n",
    "                else:\n",
    "                    print(f\"Warning: Value {rounded} exceeds {bit_size}-bit range. Skipped.\")\n",
    "\n",
    "            except ValueError:\n",
    "                continue  # Skip invalid lines\n",
    "\n",
    "    with open(outputFilePath, 'w') as out_file:\n",
    "        out_file.write(''.join(bitstream))\n",
    "\n",
    "    print(f\"Bitstream saved to {outputFilePath}\")\n"
   ]
  },
  {
   "cell_type": "code",
   "execution_count": 2,
   "id": "3fe9fe06",
   "metadata": {},
   "outputs": [
    {
     "name": "stdout",
     "output_type": "stream",
     "text": [
      "Bitstream saved to database/Lcg_number_stream.txt\n"
     ]
    }
   ],
   "source": [
    "convert_float_file_to_bitstream(\n",
    "    inputFilePath=\"random_number_sample/Lcg.txt\",\n",
    "    outputFilePath=\"database/Lcg_number_stream.txt\"\n",
    ")\n"
   ]
  },
  {
   "cell_type": "code",
   "execution_count": 2,
   "id": "8429659c",
   "metadata": {},
   "outputs": [
    {
     "name": "stdout",
     "output_type": "stream",
     "text": [
      "Bitstream saved to database/Xorshift128+_number_stream.txt\n"
     ]
    }
   ],
   "source": [
    "convert_float_file_to_bitstream(\n",
    "    inputFilePath=\"random_number_sample\\Xorshift128+.txt\",\n",
    "    outputFilePath=\"database/Xorshift128+_number_stream.txt\"\n",
    ")\n"
   ]
  },
  {
   "cell_type": "code",
   "execution_count": 3,
   "id": "932665be",
   "metadata": {},
   "outputs": [
    {
     "name": "stdout",
     "output_type": "stream",
     "text": [
      "Bitstream saved to database/MRG32k3a_number_stream.txt\n"
     ]
    }
   ],
   "source": [
    "convert_float_file_to_bitstream(\n",
    "    inputFilePath=\"random_number_sample\\MRG32k3a.txt\",\n",
    "    outputFilePath=\"database/MRG32k3a_number_stream.txt\"\n",
    ")"
   ]
  }
 ],
 "metadata": {
  "kernelspec": {
   "display_name": "Python 3",
   "language": "python",
   "name": "python3"
  },
  "language_info": {
   "codemirror_mode": {
    "name": "ipython",
    "version": 3
   },
   "file_extension": ".py",
   "mimetype": "text/x-python",
   "name": "python",
   "nbconvert_exporter": "python",
   "pygments_lexer": "ipython3",
   "version": "3.11.9"
  }
 },
 "nbformat": 4,
 "nbformat_minor": 5
}
