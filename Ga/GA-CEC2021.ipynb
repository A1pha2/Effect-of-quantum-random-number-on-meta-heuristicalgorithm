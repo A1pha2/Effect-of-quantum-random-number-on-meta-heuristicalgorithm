{
 "cells": [
  {
   "cell_type": "code",
   "execution_count": null,
   "metadata": {},
   "outputs": [],
   "source": [
    "from mealpy.evolutionary_based import GA\n",
    "import os\n",
    "import numpy as np\n",
    "from mealpy import PermutationVar, BinaryVar, FloatVar"
   ]
  },
  {
   "cell_type": "code",
   "execution_count": null,
   "metadata": {},
   "outputs": [],
   "source": [
    "os.chdir(\"/home/user/quantum-project/quantum-project/Ga\") "
   ]
  },
  {
   "cell_type": "markdown",
   "metadata": {},
   "source": [
    "# <span style=\"color:blue; font-weight:bold;\">F12021</span>\n"
   ]
  },
  {
   "cell_type": "code",
   "execution_count": null,
   "metadata": {},
   "outputs": [],
   "source": [
    "import sys\n",
    "\n",
    "# Add the parent directory to the Python path\n",
    "parent_dir = os.path.abspath(os.path.join(os.getcwd(), \"..\"))\n",
    "sys.path.append(parent_dir)\n",
    "from run_function import *\n",
    "from config import parameters, num_trials"
   ]
  },
  {
   "cell_type": "code",
   "execution_count": null,
   "metadata": {},
   "outputs": [],
   "source": [
    "from opfunu.cec_based.cec2021 import F12021\n",
    "\n",
    "f1 = F12021(10, f_bias=0)"
   ]
  },
  {
   "cell_type": "code",
   "execution_count": null,
   "metadata": {},
   "outputs": [],
   "source": [
    "p1 = {\n",
    "    \"bounds\": FloatVar(lb=f1.lb, ub=f1.ub),\n",
    "    \"obj_func\": f1.evaluate,\n",
    "    \"minmax\": \"min\",\n",
    "    \"name\": \"F1\",\n",
    "    \"save_population\": True\n",
    "}"
   ]
  },
  {
   "cell_type": "code",
   "execution_count": null,
   "metadata": {},
   "outputs": [],
   "source": [
    "# Create the problem instance\n",
    "bounds = FloatVar(lb=f1.lb, ub=f1.ub)"
   ]
  },
  {
   "cell_type": "markdown",
   "metadata": {},
   "source": [
    "#### <span style=\"color:green; font-weight:bold;\">-Mersene Twister</span>\n"
   ]
  },
  {
   "cell_type": "code",
   "execution_count": null,
   "metadata": {},
   "outputs": [],
   "source": [
    "# Base directories\n",
    "base_starting_solution_dir = os.path.join(\"..\", \"starting_solution\", \"CEC2021\", \"F12021\")\n",
    "base_history_dir = os.path.join(\"..\", \"history\", \"ga\", \"CEC2021\", \"F12021\", \"Mt19937\")\n",
    "\n",
    "run_optimization_trials(\n",
    "    base_starting_solution_dir=base_starting_solution_dir,\n",
    "    base_history_dir=base_history_dir,\n",
    "    num_trials=num_trials,\n",
    "    rng_type=\"Mt19937\",\n",
    "    parameters=parameters,\n",
    "    num_city=10,\n",
    "    mod=GA,\n",
    "    mod_ver=\"BaseGA\",\n",
    "    problem=p1,\n",
    ")\n"
   ]
  },
  {
   "cell_type": "markdown",
   "metadata": {},
   "source": [
    "#### <span style=\"color:green; font-weight:bold;\">-Quasirandom</span>\n"
   ]
  },
  {
   "cell_type": "code",
   "execution_count": null,
   "metadata": {},
   "outputs": [],
   "source": [
    "# Base directories\n",
    "base_starting_solution_dir = os.path.join(\"..\", \"starting_solution\", \"CEC2021\", \"F12021\")\n",
    "base_history_dir = os.path.join(\"..\", \"history\", \"ga\", \"CEC2021\", \"F12021\", \"QuasiRandom\")\n",
    "\n",
    "run_optimization_trials(\n",
    "    base_starting_solution_dir=base_starting_solution_dir,\n",
    "    base_history_dir=base_history_dir,\n",
    "    num_trials=num_trials,\n",
    "    rng_type=\"QuasiRandom\",\n",
    "    parameters=parameters,    \n",
    "    num_city=10,\n",
    "    mod=GA,\n",
    "    mod_ver=\"BaseGA\",\n",
    "    problem=p1,\n",
    ")"
   ]
  },
  {
   "cell_type": "markdown",
   "metadata": {},
   "source": [
    "#### <span style=\"color:green; font-weight:bold;\">-Ibm qrng</span>\n"
   ]
  },
  {
   "cell_type": "code",
   "execution_count": null,
   "metadata": {},
   "outputs": [],
   "source": [
    "# Base directories\n",
    "base_starting_solution_dir = os.path.join(\"..\", \"starting_solution\", \"CEC2021\", \"F12021\")\n",
    "base_history_dir = os.path.join(\"..\", \"history\", \"ga\", \"CEC2021\", \"F12021\", \"Ibm\")\n",
    "\n",
    "run_optimization_trials(\n",
    "    base_starting_solution_dir=base_starting_solution_dir,\n",
    "    base_history_dir=base_history_dir,\n",
    "    num_trials=num_trials,\n",
    "    rng_type=\"Ibm\",\n",
    "    parameters=parameters,    \n",
    "    num_city=10,\n",
    "    mod=GA,\n",
    "    mod_ver=\"BaseGA\",\n",
    "    problem=p1,\n",
    ")"
   ]
  },
  {
   "cell_type": "markdown",
   "metadata": {},
   "source": [
    "#### <span style=\"color:green; font-weight:bold;\">-Beam splitter qrng</span>\n"
   ]
  },
  {
   "cell_type": "code",
   "execution_count": null,
   "metadata": {},
   "outputs": [],
   "source": [
    "# Base directories\n",
    "base_starting_solution_dir = os.path.join(\"..\", \"starting_solution\", \"CEC2021\", \"F12021\")\n",
    "base_history_dir = os.path.join(\"..\", \"history\", \"ga\", \"CEC2021\", \"F12021\", \"BeamSplitter\")\n",
    "\n",
    "run_optimization_trials(\n",
    "    base_starting_solution_dir=base_starting_solution_dir,\n",
    "    base_history_dir=base_history_dir,\n",
    "    num_trials=num_trials,\n",
    "    rng_type=\"BeamSplitter\",\n",
    "    parameters=parameters,    \n",
    "    num_city=10,\n",
    "    mod=GA,\n",
    "    mod_ver=\"BaseGA\",\n",
    "    problem=p1,\n",
    ")"
   ]
  },
  {
   "cell_type": "markdown",
   "metadata": {},
   "source": [
    "# <span style=\"color:blue; font-weight:bold;\">F22021</span>\n"
   ]
  },
  {
   "cell_type": "code",
   "execution_count": null,
   "metadata": {},
   "outputs": [],
   "source": [
    "from opfunu.cec_based.cec2021 import F22021\n",
    "\n",
    "f2 = F22021(10, f_bias=0)"
   ]
  },
  {
   "cell_type": "code",
   "execution_count": null,
   "metadata": {},
   "outputs": [],
   "source": [
    "p2 = {\n",
    "    \"bounds\": FloatVar(lb=f2.lb, ub=f2.ub),\n",
    "    \"obj_func\": f2.evaluate,\n",
    "    \"minmax\": \"min\",\n",
    "    \"name\": \"F2\",\n",
    "    \"save_population\": True\n",
    "}"
   ]
  },
  {
   "cell_type": "code",
   "execution_count": null,
   "metadata": {},
   "outputs": [],
   "source": [
    "# Create the problem instance\n",
    "bounds = FloatVar(lb=f2.lb, ub=f2.ub)"
   ]
  },
  {
   "cell_type": "markdown",
   "metadata": {},
   "source": [
    "#### <span style=\"color:green; font-weight:bold;\">-Mersene Twister</span>\n"
   ]
  },
  {
   "cell_type": "code",
   "execution_count": null,
   "metadata": {},
   "outputs": [],
   "source": [
    "# Base directories\n",
    "base_starting_solution_dir = os.path.join(\"..\", \"starting_solution\", \"CEC2021\", \"F22021\")\n",
    "base_history_dir = os.path.join(\"..\", \"history\", \"ga\", \"CEC2021\", \"F22021\", \"Mt19937\")\n",
    "\n",
    "run_optimization_trials(\n",
    "    base_starting_solution_dir=base_starting_solution_dir,\n",
    "    base_history_dir=base_history_dir,\n",
    "    num_trials=num_trials,\n",
    "    rng_type=\"Mt19937\",\n",
    "    parameters=parameters,\n",
    "    num_city=10,\n",
    "    mod=GA,\n",
    "    mod_ver=\"BaseGA\",\n",
    "    problem=p2,\n",
    ")"
   ]
  },
  {
   "cell_type": "markdown",
   "metadata": {},
   "source": [
    "#### <span style=\"color:green; font-weight:bold;\">-Quasirandom</span>\n"
   ]
  },
  {
   "cell_type": "code",
   "execution_count": null,
   "metadata": {},
   "outputs": [],
   "source": [
    "# Base directories\n",
    "base_starting_solution_dir = os.path.join(\"..\", \"starting_solution\", \"CEC2021\", \"F22021\")\n",
    "base_history_dir = os.path.join(\"..\", \"history\", \"ga\", \"CEC2021\", \"F22021\", \"QuasiRandom\")\n",
    "\n",
    "run_optimization_trials(\n",
    "    base_starting_solution_dir=base_starting_solution_dir,\n",
    "    base_history_dir=base_history_dir,\n",
    "    num_trials=num_trials,\n",
    "    rng_type=\"QuasiRandom\",\n",
    "    parameters=parameters,\n",
    "    num_city=10,\n",
    "    mod=GA,\n",
    "    mod_ver=\"BaseGA\",\n",
    "    problem=p2,\n",
    ")"
   ]
  },
  {
   "cell_type": "markdown",
   "metadata": {},
   "source": [
    "#### <span style=\"color:green; font-weight:bold;\">-Ibm qrng</span>\n"
   ]
  },
  {
   "cell_type": "code",
   "execution_count": null,
   "metadata": {},
   "outputs": [],
   "source": [
    "# Base directories\n",
    "base_starting_solution_dir = os.path.join(\"..\", \"starting_solution\", \"CEC2021\", \"F22021\")\n",
    "base_history_dir = os.path.join(\"..\", \"history\", \"ga\", \"CEC2021\", \"F22021\", \"Ibm\")\n",
    "\n",
    "run_optimization_trials(\n",
    "    base_starting_solution_dir=base_starting_solution_dir,\n",
    "    base_history_dir=base_history_dir,\n",
    "    num_trials=num_trials,\n",
    "    rng_type=\"Ibm\",\n",
    "    parameters=parameters,    \n",
    "    num_city=10,\n",
    "    mod=GA,\n",
    "    mod_ver=\"BaseGA\",\n",
    "    problem=p2,\n",
    ")"
   ]
  },
  {
   "cell_type": "markdown",
   "metadata": {},
   "source": [
    "#### <span style=\"color:green; font-weight:bold;\">-Beam splitter qrng</span>\n"
   ]
  },
  {
   "cell_type": "code",
   "execution_count": null,
   "metadata": {},
   "outputs": [],
   "source": [
    "# Base directories\n",
    "base_starting_solution_dir = os.path.join(\"..\", \"starting_solution\", \"CEC2021\", \"F22021\")\n",
    "base_history_dir = os.path.join(\"..\", \"history\", \"ga\", \"CEC2021\", \"F22021\", \"BeamSplitter\")\n",
    "\n",
    "run_optimization_trials(\n",
    "    base_starting_solution_dir=base_starting_solution_dir,\n",
    "    base_history_dir=base_history_dir,\n",
    "    num_trials=num_trials,\n",
    "    rng_type=\"BeamSplitter\",\n",
    "    parameters=parameters,\n",
    "    num_city=10,\n",
    "    mod=GA,\n",
    "    mod_ver=\"BaseGA\",\n",
    "    problem=p2,\n",
    ")"
   ]
  },
  {
   "cell_type": "markdown",
   "metadata": {},
   "source": [
    "# <span style=\"color:blue; font-weight:bold;\">F32021</span>\n"
   ]
  },
  {
   "cell_type": "code",
   "execution_count": null,
   "metadata": {},
   "outputs": [],
   "source": [
    "from opfunu.cec_based.cec2021 import F32021\n",
    "\n",
    "f3 = F32021(10, f_bias=0)"
   ]
  },
  {
   "cell_type": "code",
   "execution_count": null,
   "metadata": {},
   "outputs": [],
   "source": [
    "p3 = {\n",
    "    \"bounds\": FloatVar(lb=f3.lb, ub=f3.ub),\n",
    "    \"obj_func\": f3.evaluate,\n",
    "    \"minmax\": \"min\",\n",
    "    \"name\": \"F3\",\n",
    "    \"save_population\": True\n",
    "}"
   ]
  },
  {
   "cell_type": "code",
   "execution_count": null,
   "metadata": {},
   "outputs": [],
   "source": [
    "# Create the problem instance\n",
    "bounds = FloatVar(lb=f3.lb, ub=f3.ub)"
   ]
  },
  {
   "cell_type": "markdown",
   "metadata": {},
   "source": [
    "#### <span style=\"color:green; font-weight:bold;\">-Mersene Twister</span>\n"
   ]
  },
  {
   "cell_type": "code",
   "execution_count": null,
   "metadata": {},
   "outputs": [],
   "source": [
    "# Base directories\n",
    "base_starting_solution_dir = os.path.join(\"..\", \"starting_solution\", \"CEC2021\", \"F32021\")\n",
    "base_history_dir = os.path.join(\"..\", \"history\", \"ga\", \"CEC2021\", \"F32021\", \"Mt19937\")\n",
    "\n",
    "run_optimization_trials(\n",
    "    base_starting_solution_dir=base_starting_solution_dir,\n",
    "    base_history_dir=base_history_dir,\n",
    "    num_trials=num_trials,\n",
    "    rng_type=\"Mt19937\",\n",
    "    parameters=parameters,\n",
    "    num_city=10,\n",
    "    mod=GA,\n",
    "    mod_ver=\"BaseGA\",\n",
    "    problem=p3,\n",
    ")"
   ]
  },
  {
   "cell_type": "markdown",
   "metadata": {},
   "source": [
    "#### <span style=\"color:green; font-weight:bold;\">-Quasirandom</span>\n"
   ]
  },
  {
   "cell_type": "code",
   "execution_count": null,
   "metadata": {},
   "outputs": [],
   "source": [
    "# Base directories\n",
    "base_starting_solution_dir = os.path.join(\"..\", \"starting_solution\", \"CEC2021\", \"F32021\")\n",
    "base_history_dir = os.path.join(\"..\", \"history\", \"ga\", \"CEC2021\", \"F32021\", \"QuasiRandom\")\n",
    "\n",
    "run_optimization_trials(\n",
    "    base_starting_solution_dir=base_starting_solution_dir,\n",
    "    base_history_dir=base_history_dir,\n",
    "    num_trials=num_trials,\n",
    "    rng_type=\"QuasiRandom\",\n",
    "    parameters=parameters,\n",
    "    num_city=10,\n",
    "    mod=GA,\n",
    "    mod_ver=\"BaseGA\",\n",
    "    problem=p3,\n",
    ")"
   ]
  },
  {
   "cell_type": "markdown",
   "metadata": {},
   "source": [
    "#### <span style=\"color:green; font-weight:bold;\">-Ibm qrng</span>\n"
   ]
  },
  {
   "cell_type": "code",
   "execution_count": null,
   "metadata": {},
   "outputs": [],
   "source": [
    "# Base directories\n",
    "base_starting_solution_dir = os.path.join(\"..\", \"starting_solution\", \"CEC2021\", \"F32021\")\n",
    "base_history_dir = os.path.join(\"..\", \"history\", \"ga\", \"CEC2021\", \"F32021\", \"Ibm\")\n",
    "\n",
    "run_optimization_trials(\n",
    "    base_starting_solution_dir=base_starting_solution_dir,\n",
    "    base_history_dir=base_history_dir,\n",
    "    num_trials=num_trials,\n",
    "    rng_type=\"Ibm\",\n",
    "    parameters=parameters,\n",
    "    num_city=10,\n",
    "    mod=GA,\n",
    "    mod_ver=\"BaseGA\",\n",
    "    problem=p3,\n",
    ")"
   ]
  },
  {
   "cell_type": "markdown",
   "metadata": {},
   "source": [
    "#### <span style=\"color:green; font-weight:bold;\">-Beam splitter qrng</span>\n"
   ]
  },
  {
   "cell_type": "code",
   "execution_count": null,
   "metadata": {},
   "outputs": [],
   "source": [
    "# Base directories\n",
    "base_starting_solution_dir = os.path.join(\"..\", \"starting_solution\", \"CEC2021\", \"F32021\")\n",
    "base_history_dir = os.path.join(\"..\", \"history\", \"ga\", \"CEC2021\", \"F32021\", \"BeamSplitter\")\n",
    "\n",
    "run_optimization_trials(\n",
    "    base_starting_solution_dir=base_starting_solution_dir,\n",
    "    base_history_dir=base_history_dir,\n",
    "    num_trials=num_trials,\n",
    "    rng_type=\"BeamSplitter\",\n",
    "    parameters=parameters,\n",
    "    num_city=10,\n",
    "    mod=GA,\n",
    "    mod_ver=\"BaseGA\",\n",
    "    problem=p3,\n",
    ")"
   ]
  },
  {
   "cell_type": "markdown",
   "metadata": {},
   "source": [
    "# <span style=\"color:blue; font-weight:bold;\">F42021</span>\n"
   ]
  },
  {
   "cell_type": "code",
   "execution_count": null,
   "metadata": {},
   "outputs": [],
   "source": [
    "from opfunu.cec_based.cec2021 import F42021\n",
    "\n",
    "f4 = F42021(10, f_bias=0)"
   ]
  },
  {
   "cell_type": "code",
   "execution_count": null,
   "metadata": {},
   "outputs": [],
   "source": [
    "p4 = {\n",
    "    \"bounds\": FloatVar(lb=f4.lb, ub=f4.ub),\n",
    "    \"obj_func\": f4.evaluate,\n",
    "    \"minmax\": \"min\",\n",
    "    \"name\": \"F4\",\n",
    "    \"save_population\": True\n",
    "}"
   ]
  },
  {
   "cell_type": "code",
   "execution_count": null,
   "metadata": {},
   "outputs": [],
   "source": [
    "# Create the problem instance\n",
    "bounds = FloatVar(lb=f4.lb, ub=f4.ub)"
   ]
  },
  {
   "cell_type": "markdown",
   "metadata": {},
   "source": [
    "#### <span style=\"color:green; font-weight:bold;\">-Mersene Twister</span>\n"
   ]
  },
  {
   "cell_type": "code",
   "execution_count": null,
   "metadata": {},
   "outputs": [],
   "source": [
    "# Base directories\n",
    "base_starting_solution_dir = os.path.join(\"..\", \"starting_solution\", \"CEC2021\", \"F42021\")\n",
    "base_history_dir = os.path.join(\"..\", \"history\", \"ga\", \"CEC2021\", \"F42021\", \"Mt19937\")\n",
    "\n",
    "run_optimization_trials(\n",
    "    base_starting_solution_dir=base_starting_solution_dir,\n",
    "    base_history_dir=base_history_dir,\n",
    "    num_trials=num_trials,\n",
    "    rng_type=\"Mt19937\",\n",
    "    parameters=parameters,\n",
    "    num_city=10,\n",
    "    mod=GA,\n",
    "    mod_ver=\"BaseGA\",\n",
    "    problem=p4,\n",
    ")"
   ]
  },
  {
   "cell_type": "markdown",
   "metadata": {},
   "source": [
    "#### <span style=\"color:green; font-weight:bold;\">-Quasirandom</span>\n"
   ]
  },
  {
   "cell_type": "code",
   "execution_count": null,
   "metadata": {},
   "outputs": [],
   "source": [
    "# Base directories\n",
    "base_starting_solution_dir = os.path.join(\"..\", \"starting_solution\", \"CEC2021\", \"F42021\")\n",
    "base_history_dir = os.path.join(\"..\", \"history\", \"ga\", \"CEC2021\", \"F42021\", \"QuasiRandom\")\n",
    "\n",
    "run_optimization_trials(\n",
    "    base_starting_solution_dir=base_starting_solution_dir,\n",
    "    base_history_dir=base_history_dir,\n",
    "    num_trials=num_trials,\n",
    "    rng_type=\"QuasiRandom\",\n",
    "    parameters=parameters,\n",
    "    num_city=10,\n",
    "    mod=GA,\n",
    "    mod_ver=\"BaseGA\",\n",
    "    problem=p4,\n",
    ")"
   ]
  },
  {
   "cell_type": "markdown",
   "metadata": {},
   "source": [
    "#### <span style=\"color:green; font-weight:bold;\">-Ibm qrng</span>\n"
   ]
  },
  {
   "cell_type": "code",
   "execution_count": null,
   "metadata": {},
   "outputs": [],
   "source": [
    "# Base directories\n",
    "base_starting_solution_dir = os.path.join(\"..\", \"starting_solution\", \"CEC2021\", \"F42021\")\n",
    "base_history_dir = os.path.join(\"..\", \"history\", \"ga\", \"CEC2021\", \"F42021\", \"Ibm\")\n",
    "\n",
    "run_optimization_trials(\n",
    "    base_starting_solution_dir=base_starting_solution_dir,\n",
    "    base_history_dir=base_history_dir,\n",
    "    num_trials=num_trials,\n",
    "    rng_type=\"Ibm\",\n",
    "    parameters=parameters,\n",
    "    num_city=10,\n",
    "    mod=GA,\n",
    "    mod_ver=\"BaseGA\",\n",
    "    problem=p4,\n",
    ")"
   ]
  },
  {
   "cell_type": "markdown",
   "metadata": {},
   "source": [
    "#### <span style=\"color:green; font-weight:bold;\">-Beam splitter qrng</span>\n"
   ]
  },
  {
   "cell_type": "code",
   "execution_count": null,
   "metadata": {},
   "outputs": [],
   "source": [
    "# Base directories\n",
    "base_starting_solution_dir = os.path.join(\"..\", \"starting_solution\", \"CEC2021\", \"F42021\")\n",
    "base_history_dir = os.path.join(\"..\", \"history\", \"ga\", \"CEC2021\", \"F42021\", \"BeamSplitter\")\n",
    "\n",
    "run_optimization_trials(\n",
    "    base_starting_solution_dir=base_starting_solution_dir,\n",
    "    base_history_dir=base_history_dir,\n",
    "    num_trials=num_trials,\n",
    "    rng_type=\"BeamSplitter\",\n",
    "    parameters=parameters,\n",
    "    num_city=10,\n",
    "    mod=GA,\n",
    "    mod_ver=\"BaseGA\",\n",
    "    problem=p4,\n",
    ")"
   ]
  },
  {
   "cell_type": "markdown",
   "metadata": {},
   "source": [
    "# <span style=\"color:blue; font-weight:bold;\">F52021</span>\n"
   ]
  },
  {
   "cell_type": "code",
   "execution_count": null,
   "metadata": {},
   "outputs": [],
   "source": [
    "from opfunu.cec_based.cec2021 import F52021\n",
    "\n",
    "f5 = F52021(10, f_bias=0)"
   ]
  },
  {
   "cell_type": "code",
   "execution_count": null,
   "metadata": {},
   "outputs": [],
   "source": [
    "p5 = {\n",
    "    \"bounds\": FloatVar(lb=f5.lb, ub=f5.ub),\n",
    "    \"obj_func\": f5.evaluate,\n",
    "    \"minmax\": \"min\",\n",
    "    \"name\": \"F5\",\n",
    "    \"save_population\": True\n",
    "}"
   ]
  },
  {
   "cell_type": "code",
   "execution_count": null,
   "metadata": {},
   "outputs": [],
   "source": [
    "# Create the problem instance\n",
    "bounds = FloatVar(lb=f5.lb, ub=f5.ub)"
   ]
  },
  {
   "cell_type": "markdown",
   "metadata": {},
   "source": [
    "#### <span style=\"color:green; font-weight:bold;\">-Mersene Twister</span>\n"
   ]
  },
  {
   "cell_type": "code",
   "execution_count": null,
   "metadata": {},
   "outputs": [],
   "source": [
    "# Base directories\n",
    "base_starting_solution_dir = os.path.join(\"..\", \"starting_solution\", \"CEC2021\", \"F52021\")\n",
    "base_history_dir = os.path.join(\"..\", \"history\", \"ga\", \"CEC2021\", \"F52021\", \"Mt19937\")\n",
    "\n",
    "run_optimization_trials(\n",
    "    base_starting_solution_dir=base_starting_solution_dir,\n",
    "    base_history_dir=base_history_dir,\n",
    "    num_trials=num_trials,\n",
    "    rng_type=\"Mt19937\",\n",
    "    parameters=parameters,\n",
    "    num_city=10,\n",
    "    mod=GA,\n",
    "    mod_ver=\"BaseGA\",\n",
    "    problem=p5,\n",
    ")"
   ]
  },
  {
   "cell_type": "markdown",
   "metadata": {},
   "source": [
    "#### <span style=\"color:green; font-weight:bold;\">-Quasirandom</span>\n"
   ]
  },
  {
   "cell_type": "code",
   "execution_count": null,
   "metadata": {},
   "outputs": [],
   "source": [
    "# Base directories\n",
    "base_starting_solution_dir = os.path.join(\"..\", \"starting_solution\", \"CEC2021\", \"F52021\")\n",
    "base_history_dir = os.path.join(\"..\", \"history\", \"ga\", \"CEC2021\", \"F52021\", \"QuasiRandom\")\n",
    "\n",
    "run_optimization_trials(\n",
    "    base_starting_solution_dir=base_starting_solution_dir,\n",
    "    base_history_dir=base_history_dir,\n",
    "    num_trials=num_trials,\n",
    "    rng_type=\"QuasiRandom\",\n",
    "    parameters=parameters,\n",
    "    num_city=10,\n",
    "    mod=GA,\n",
    "    mod_ver=\"BaseGA\",\n",
    "    problem=p5,\n",
    ")"
   ]
  },
  {
   "cell_type": "markdown",
   "metadata": {},
   "source": [
    "#### <span style=\"color:green; font-weight:bold;\">-Ibm qrng</span>\n"
   ]
  },
  {
   "cell_type": "code",
   "execution_count": null,
   "metadata": {},
   "outputs": [],
   "source": [
    "# Base directories\n",
    "base_starting_solution_dir = os.path.join(\"..\", \"starting_solution\", \"CEC2021\", \"F52021\")\n",
    "base_history_dir = os.path.join(\"..\", \"history\", \"ga\", \"CEC2021\", \"F52021\", \"Ibm\")\n",
    "\n",
    "run_optimization_trials(\n",
    "    base_starting_solution_dir=base_starting_solution_dir,\n",
    "    base_history_dir=base_history_dir,\n",
    "    num_trials=num_trials,\n",
    "    rng_type=\"Ibm\",\n",
    "    parameters=parameters,\n",
    "    num_city=10,\n",
    "    mod=GA,\n",
    "    mod_ver=\"BaseGA\",\n",
    "    problem=p5,\n",
    ")"
   ]
  },
  {
   "cell_type": "markdown",
   "metadata": {},
   "source": [
    "#### <span style=\"color:green; font-weight:bold;\">-Beam splitter qrng</span>\n"
   ]
  },
  {
   "cell_type": "code",
   "execution_count": null,
   "metadata": {},
   "outputs": [],
   "source": [
    "# Base directories\n",
    "base_starting_solution_dir = os.path.join(\"..\", \"starting_solution\", \"CEC2021\", \"F52021\")\n",
    "base_history_dir = os.path.join(\"..\", \"history\", \"ga\", \"CEC2021\", \"F52021\", \"BeamSplitter\")\n",
    "\n",
    "run_optimization_trials(\n",
    "    base_starting_solution_dir=base_starting_solution_dir,\n",
    "    base_history_dir=base_history_dir,\n",
    "    num_trials=num_trials,\n",
    "    rng_type=\"BeamSplitter\",\n",
    "    parameters=parameters,\n",
    "    num_city=10,\n",
    "    mod=GA,\n",
    "    mod_ver=\"BaseGA\",\n",
    "    problem=p5,\n",
    ")"
   ]
  },
  {
   "cell_type": "markdown",
   "metadata": {},
   "source": [
    "# <span style=\"color:blue; font-weight:bold;\">F62021</span>\n"
   ]
  },
  {
   "cell_type": "code",
   "execution_count": null,
   "metadata": {},
   "outputs": [],
   "source": [
    "from opfunu.cec_based.cec2021 import F62021\n",
    "\n",
    "f6 = F62021(10, f_bias=0)"
   ]
  },
  {
   "cell_type": "code",
   "execution_count": null,
   "metadata": {},
   "outputs": [],
   "source": [
    "p6 = {\n",
    "    \"bounds\": FloatVar(lb=f6.lb, ub=f6.ub),\n",
    "    \"obj_func\": f6.evaluate,\n",
    "    \"minmax\": \"min\",\n",
    "    \"name\": \"F6\",\n",
    "    \"save_population\": True\n",
    "}"
   ]
  },
  {
   "cell_type": "code",
   "execution_count": null,
   "metadata": {},
   "outputs": [],
   "source": [
    "# Create the problem instance\n",
    "bounds = FloatVar(lb=f6.lb, ub=f6.ub)"
   ]
  },
  {
   "cell_type": "markdown",
   "metadata": {},
   "source": [
    "#### <span style=\"color:green; font-weight:bold;\">-Mersene Twister</span>\n"
   ]
  },
  {
   "cell_type": "code",
   "execution_count": null,
   "metadata": {},
   "outputs": [],
   "source": [
    "# Base directories\n",
    "base_starting_solution_dir = os.path.join(\"..\", \"starting_solution\", \"CEC2021\", \"F62021\")\n",
    "base_history_dir = os.path.join(\"..\", \"history\", \"ga\", \"CEC2021\", \"F62021\", \"Mt19937\")\n",
    "\n",
    "run_optimization_trials(\n",
    "    base_starting_solution_dir=base_starting_solution_dir,\n",
    "    base_history_dir=base_history_dir,\n",
    "    num_trials=num_trials,\n",
    "    rng_type=\"Mt19937\",\n",
    "    parameters=parameters,\n",
    "    num_city=10,\n",
    "    mod=GA,\n",
    "    mod_ver=\"BaseGA\",\n",
    "    problem=p6,\n",
    ")"
   ]
  },
  {
   "cell_type": "markdown",
   "metadata": {},
   "source": [
    "#### <span style=\"color:green; font-weight:bold;\">-Quasirandom</span>\n"
   ]
  },
  {
   "cell_type": "code",
   "execution_count": null,
   "metadata": {},
   "outputs": [],
   "source": [
    "# Base directories\n",
    "base_starting_solution_dir = os.path.join(\"..\", \"starting_solution\", \"CEC2021\", \"F62021\")\n",
    "base_history_dir = os.path.join(\"..\", \"history\", \"ga\", \"CEC2021\", \"F62021\", \"QuasiRandom\")\n",
    "\n",
    "run_optimization_trials(\n",
    "    base_starting_solution_dir=base_starting_solution_dir,\n",
    "    base_history_dir=base_history_dir,\n",
    "    num_trials=num_trials,\n",
    "    rng_type=\"QuasiRandom\",\n",
    "    parameters=parameters,\n",
    "    num_city=10,\n",
    "    mod=GA,\n",
    "    mod_ver=\"BaseGA\",\n",
    "    problem=p6,\n",
    ")"
   ]
  },
  {
   "cell_type": "markdown",
   "metadata": {},
   "source": [
    "#### <span style=\"color:green; font-weight:bold;\">-Ibm qrng</span>\n"
   ]
  },
  {
   "cell_type": "code",
   "execution_count": null,
   "metadata": {},
   "outputs": [],
   "source": [
    "# Base directories\n",
    "base_starting_solution_dir = os.path.join(\"..\", \"starting_solution\", \"CEC2021\", \"F62021\")\n",
    "base_history_dir = os.path.join(\"..\", \"history\", \"ga\", \"CEC2021\", \"F62021\", \"Ibm\")\n",
    "\n",
    "run_optimization_trials(\n",
    "    base_starting_solution_dir=base_starting_solution_dir,\n",
    "    base_history_dir=base_history_dir,\n",
    "    num_trials=num_trials,\n",
    "    rng_type=\"Ibm\",\n",
    "    parameters=parameters,\n",
    "    num_city=10,\n",
    "    mod=GA,\n",
    "    mod_ver=\"BaseGA\",\n",
    "    problem=p6,\n",
    ")"
   ]
  },
  {
   "cell_type": "markdown",
   "metadata": {},
   "source": [
    "#### <span style=\"color:green; font-weight:bold;\">-Beam splitter qrng</span>\n"
   ]
  },
  {
   "cell_type": "code",
   "execution_count": null,
   "metadata": {},
   "outputs": [],
   "source": [
    "# Base directories\n",
    "base_starting_solution_dir = os.path.join(\"..\", \"starting_solution\", \"CEC2021\", \"F62021\")\n",
    "base_history_dir = os.path.join(\"..\", \"history\", \"ga\", \"CEC2021\", \"F62021\", \"BeamSplitter\")\n",
    "\n",
    "run_optimization_trials(\n",
    "    base_starting_solution_dir=base_starting_solution_dir,\n",
    "    base_history_dir=base_history_dir,\n",
    "    num_trials=num_trials,\n",
    "    rng_type=\"BeamSplitter\",\n",
    "    parameters=parameters,\n",
    "    num_city=10,\n",
    "    mod=GA,\n",
    "    mod_ver=\"BaseGA\",\n",
    "    problem=p6,\n",
    ")"
   ]
  },
  {
   "cell_type": "markdown",
   "metadata": {},
   "source": [
    "# <span style=\"color:blue; font-weight:bold;\">F72021</span>\n"
   ]
  },
  {
   "cell_type": "code",
   "execution_count": null,
   "metadata": {},
   "outputs": [],
   "source": [
    "from opfunu.cec_based.cec2021 import F72021\n",
    "\n",
    "f7 = F72021(10, f_bias=0)"
   ]
  },
  {
   "cell_type": "code",
   "execution_count": null,
   "metadata": {},
   "outputs": [],
   "source": [
    "p7 = {\n",
    "    \"bounds\": FloatVar(lb=f7.lb, ub=f7.ub),\n",
    "    \"obj_func\": f7.evaluate,\n",
    "    \"minmax\": \"min\",\n",
    "    \"name\": \"F7\",\n",
    "    \"save_population\": True\n",
    "}"
   ]
  },
  {
   "cell_type": "code",
   "execution_count": null,
   "metadata": {},
   "outputs": [],
   "source": [
    "# Create the problem instance\n",
    "bounds = FloatVar(lb=f7.lb, ub=f7.ub)"
   ]
  },
  {
   "cell_type": "markdown",
   "metadata": {},
   "source": [
    "#### <span style=\"color:green; font-weight:bold;\">-Mersene Twister</span>\n"
   ]
  },
  {
   "cell_type": "code",
   "execution_count": null,
   "metadata": {},
   "outputs": [],
   "source": [
    "# Base directories\n",
    "base_starting_solution_dir = os.path.join(\"..\", \"starting_solution\", \"CEC2021\", \"F72021\")\n",
    "base_history_dir = os.path.join(\"..\", \"history\", \"ga\", \"CEC2021\", \"F72021\", \"Mt19937\")\n",
    "\n",
    "run_optimization_trials(\n",
    "    base_starting_solution_dir=base_starting_solution_dir,\n",
    "    base_history_dir=base_history_dir,\n",
    "    num_trials=num_trials,\n",
    "    rng_type=\"Mt19937\",\n",
    "    parameters=parameters,\n",
    "    num_city=10,\n",
    "    mod=GA,\n",
    "    mod_ver=\"BaseGA\",\n",
    "    problem=p7,\n",
    ")"
   ]
  },
  {
   "cell_type": "markdown",
   "metadata": {},
   "source": [
    "#### <span style=\"color:green; font-weight:bold;\">-Quasirandom</span>\n"
   ]
  },
  {
   "cell_type": "code",
   "execution_count": null,
   "metadata": {},
   "outputs": [],
   "source": [
    "# Base directories\n",
    "base_starting_solution_dir = os.path.join(\"..\", \"starting_solution\", \"CEC2021\", \"F72021\")\n",
    "base_history_dir = os.path.join(\"..\", \"history\", \"ga\", \"CEC2021\", \"F72021\", \"QuasiRandom\")\n",
    "\n",
    "run_optimization_trials(\n",
    "    base_starting_solution_dir=base_starting_solution_dir,\n",
    "    base_history_dir=base_history_dir,\n",
    "    num_trials=num_trials,\n",
    "    rng_type=\"QuasiRandom\",\n",
    "    parameters=parameters,\n",
    "    num_city=10,\n",
    "    mod=GA,\n",
    "    mod_ver=\"BaseGA\",\n",
    "    problem=p7,\n",
    ")"
   ]
  },
  {
   "cell_type": "markdown",
   "metadata": {},
   "source": [
    "#### <span style=\"color:green; font-weight:bold;\">-Ibm qrng</span>\n"
   ]
  },
  {
   "cell_type": "code",
   "execution_count": null,
   "metadata": {},
   "outputs": [],
   "source": [
    "# Base directories\n",
    "base_starting_solution_dir = os.path.join(\"..\", \"starting_solution\", \"CEC2021\", \"F72021\")\n",
    "base_history_dir = os.path.join(\"..\", \"history\", \"ga\", \"CEC2021\", \"F72021\", \"Ibm\")\n",
    "\n",
    "run_optimization_trials(\n",
    "    base_starting_solution_dir=base_starting_solution_dir,\n",
    "    base_history_dir=base_history_dir,\n",
    "    num_trials=num_trials,\n",
    "    rng_type=\"Ibm\",\n",
    "    parameters=parameters,\n",
    "    num_city=10,\n",
    "    mod=GA,\n",
    "    mod_ver=\"BaseGA\",\n",
    "    problem=p7,\n",
    ")"
   ]
  },
  {
   "cell_type": "markdown",
   "metadata": {},
   "source": [
    "#### <span style=\"color:green; font-weight:bold;\">-Beam splitter qrng</span>\n"
   ]
  },
  {
   "cell_type": "code",
   "execution_count": null,
   "metadata": {},
   "outputs": [],
   "source": [
    "# Base directories\n",
    "base_starting_solution_dir = os.path.join(\"..\", \"starting_solution\", \"CEC2021\", \"F72021\")\n",
    "base_history_dir = os.path.join(\"..\", \"history\", \"ga\", \"CEC2021\", \"F72021\", \"BeamSplitter\")\n",
    "\n",
    "run_optimization_trials(\n",
    "    base_starting_solution_dir=base_starting_solution_dir,\n",
    "    base_history_dir=base_history_dir,\n",
    "    num_trials=num_trials,\n",
    "    rng_type=\"BeamSplitter\",\n",
    "    parameters=parameters,\n",
    "    num_city=10,\n",
    "    mod=GA,\n",
    "    mod_ver=\"BaseGA\",\n",
    "    problem=p7,\n",
    ")"
   ]
  },
  {
   "cell_type": "markdown",
   "metadata": {},
   "source": [
    "# <span style=\"color:blue; font-weight:bold;\">F82021</span>\n"
   ]
  },
  {
   "cell_type": "code",
   "execution_count": null,
   "metadata": {},
   "outputs": [],
   "source": [
    "from opfunu.cec_based.cec2021 import F82021\n",
    "\n",
    "f8 = F82021(10, f_bias=0)"
   ]
  },
  {
   "cell_type": "code",
   "execution_count": null,
   "metadata": {},
   "outputs": [],
   "source": [
    "p8 = {\n",
    "    \"bounds\": FloatVar(lb=f8.lb, ub=f8.ub),\n",
    "    \"obj_func\": f8.evaluate,\n",
    "    \"minmax\": \"min\",\n",
    "    \"name\": \"F8\",\n",
    "    \"save_population\": True\n",
    "}"
   ]
  },
  {
   "cell_type": "code",
   "execution_count": null,
   "metadata": {},
   "outputs": [],
   "source": [
    "# Create the problem instance\n",
    "bounds = FloatVar(lb=f8.lb, ub=f8.ub)"
   ]
  },
  {
   "cell_type": "markdown",
   "metadata": {},
   "source": [
    "#### <span style=\"color:green; font-weight:bold;\">-Mersene Twister</span>\n"
   ]
  },
  {
   "cell_type": "code",
   "execution_count": null,
   "metadata": {},
   "outputs": [],
   "source": [
    "# Base directories\n",
    "base_starting_solution_dir = os.path.join(\"..\", \"starting_solution\", \"CEC2021\", \"F82021\")\n",
    "base_history_dir = os.path.join(\"..\", \"history\", \"ga\", \"CEC2021\", \"F82021\", \"Mt19937\")\n",
    "\n",
    "run_optimization_trials(\n",
    "    base_starting_solution_dir=base_starting_solution_dir,\n",
    "    base_history_dir=base_history_dir,\n",
    "    num_trials=num_trials,\n",
    "    rng_type=\"Mt19937\",\n",
    "    parameters=parameters,\n",
    "    num_city=10,\n",
    "    mod=GA,\n",
    "    mod_ver=\"BaseGA\",\n",
    "    problem=p8,\n",
    ")"
   ]
  },
  {
   "cell_type": "markdown",
   "metadata": {},
   "source": [
    "#### <span style=\"color:green; font-weight:bold;\">-Quasirandom</span>\n"
   ]
  },
  {
   "cell_type": "code",
   "execution_count": null,
   "metadata": {},
   "outputs": [],
   "source": [
    "# Base directories\n",
    "base_starting_solution_dir = os.path.join(\"..\", \"starting_solution\", \"CEC2021\", \"F82021\")\n",
    "base_history_dir = os.path.join(\"..\", \"history\", \"ga\", \"CEC2021\", \"F82021\", \"QuasiRandom\")\n",
    "\n",
    "run_optimization_trials(\n",
    "    base_starting_solution_dir=base_starting_solution_dir,\n",
    "    base_history_dir=base_history_dir,\n",
    "    num_trials=num_trials,\n",
    "    rng_type=\"QuasiRandom\",\n",
    "    parameters=parameters,\n",
    "    num_city=10,\n",
    "    mod=GA,\n",
    "    mod_ver=\"BaseGA\",\n",
    "    problem=p8,\n",
    ")"
   ]
  },
  {
   "cell_type": "markdown",
   "metadata": {},
   "source": [
    "#### <span style=\"color:green; font-weight:bold;\">-Ibm qrng</span>\n"
   ]
  },
  {
   "cell_type": "code",
   "execution_count": null,
   "metadata": {},
   "outputs": [],
   "source": [
    "# Base directories\n",
    "base_starting_solution_dir = os.path.join(\"..\", \"starting_solution\", \"CEC2021\", \"F82021\")\n",
    "base_history_dir = os.path.join(\"..\", \"history\", \"ga\", \"CEC2021\", \"F82021\", \"Ibm\")\n",
    "\n",
    "run_optimization_trials(\n",
    "    base_starting_solution_dir=base_starting_solution_dir,\n",
    "    base_history_dir=base_history_dir,\n",
    "    num_trials=num_trials,\n",
    "    rng_type=\"Ibm\",\n",
    "    parameters=parameters,\n",
    "    num_city=10,\n",
    "    mod=GA,\n",
    "    mod_ver=\"BaseGA\",\n",
    "    problem=p8,\n",
    ")"
   ]
  },
  {
   "cell_type": "markdown",
   "metadata": {},
   "source": [
    "#### <span style=\"color:green; font-weight:bold;\">-Beam splitter qrng</span>\n"
   ]
  },
  {
   "cell_type": "code",
   "execution_count": null,
   "metadata": {},
   "outputs": [],
   "source": [
    "# Base directories\n",
    "base_starting_solution_dir = os.path.join(\"..\", \"starting_solution\", \"CEC2021\", \"F82021\")\n",
    "base_history_dir = os.path.join(\"..\", \"history\", \"ga\", \"CEC2021\", \"F82021\", \"BeamSplitter\")\n",
    "\n",
    "run_optimization_trials(\n",
    "    base_starting_solution_dir=base_starting_solution_dir,\n",
    "    base_history_dir=base_history_dir,\n",
    "    num_trials=num_trials,\n",
    "    rng_type=\"BeamSplitter\",\n",
    "    parameters=parameters,\n",
    "    num_city=10,\n",
    "    mod=GA,\n",
    "    mod_ver=\"BaseGA\",\n",
    "    problem=p8,\n",
    ")"
   ]
  },
  {
   "cell_type": "markdown",
   "metadata": {},
   "source": [
    "# <span style=\"color:blue; font-weight:bold;\">F92021</span>\n"
   ]
  },
  {
   "cell_type": "code",
   "execution_count": null,
   "metadata": {},
   "outputs": [],
   "source": [
    "from opfunu.cec_based.cec2021 import F92021\n",
    "\n",
    "f9 = F92021(10, f_bias=0)"
   ]
  },
  {
   "cell_type": "code",
   "execution_count": null,
   "metadata": {},
   "outputs": [],
   "source": [
    "p9 = {\n",
    "    \"bounds\": FloatVar(lb=f9.lb, ub=f9.ub),\n",
    "    \"obj_func\": f9.evaluate,\n",
    "    \"minmax\": \"min\",\n",
    "    \"name\": \"F9\",\n",
    "    \"save_population\": True\n",
    "}"
   ]
  },
  {
   "cell_type": "code",
   "execution_count": null,
   "metadata": {},
   "outputs": [],
   "source": [
    "# Create the problem instance\n",
    "bounds = FloatVar(lb=f9.lb, ub=f9.ub)"
   ]
  },
  {
   "cell_type": "markdown",
   "metadata": {},
   "source": [
    "#### <span style=\"color:green; font-weight:bold;\">-Mersene Twister</span>\n"
   ]
  },
  {
   "cell_type": "code",
   "execution_count": null,
   "metadata": {},
   "outputs": [],
   "source": [
    "# Base directories\n",
    "base_starting_solution_dir = os.path.join(\"..\", \"starting_solution\", \"CEC2021\", \"F92021\")\n",
    "base_history_dir = os.path.join(\"..\", \"history\", \"ga\", \"CEC2021\", \"F92021\", \"Mt19937\")\n",
    "\n",
    "run_optimization_trials(\n",
    "    base_starting_solution_dir=base_starting_solution_dir,\n",
    "    base_history_dir=base_history_dir,\n",
    "    num_trials=num_trials,\n",
    "    rng_type=\"Mt19937\",\n",
    "    parameters=parameters,\n",
    "    num_city=10,\n",
    "    mod=GA,\n",
    "    mod_ver=\"BaseGA\",\n",
    "    problem=p9,\n",
    ")"
   ]
  },
  {
   "cell_type": "markdown",
   "metadata": {},
   "source": [
    "#### <span style=\"color:green; font-weight:bold;\">-Quasirandom</span>\n"
   ]
  },
  {
   "cell_type": "code",
   "execution_count": null,
   "metadata": {},
   "outputs": [],
   "source": [
    "# Base directories\n",
    "base_starting_solution_dir = os.path.join(\"..\", \"starting_solution\", \"CEC2021\", \"F92021\")\n",
    "base_history_dir = os.path.join(\"..\", \"history\", \"ga\", \"CEC2021\", \"F92021\", \"QuasiRandom\")\n",
    "\n",
    "run_optimization_trials(\n",
    "    base_starting_solution_dir=base_starting_solution_dir,\n",
    "    base_history_dir=base_history_dir,\n",
    "    num_trials=num_trials,\n",
    "    rng_type=\"QuasiRandom\",\n",
    "    parameters=parameters,\n",
    "    num_city=10,\n",
    "    mod=GA,\n",
    "    mod_ver=\"BaseGA\",\n",
    "    problem=p9,\n",
    ")"
   ]
  },
  {
   "cell_type": "markdown",
   "metadata": {},
   "source": [
    "#### <span style=\"color:green; font-weight:bold;\">-Ibm qrng</span>\n"
   ]
  },
  {
   "cell_type": "code",
   "execution_count": null,
   "metadata": {},
   "outputs": [],
   "source": [
    "# Base directories\n",
    "base_starting_solution_dir = os.path.join(\"..\", \"starting_solution\", \"CEC2021\", \"F92021\")\n",
    "base_history_dir = os.path.join(\"..\", \"history\", \"ga\", \"CEC2021\", \"F92021\", \"Ibm\")\n",
    "\n",
    "run_optimization_trials(\n",
    "    base_starting_solution_dir=base_starting_solution_dir,\n",
    "    base_history_dir=base_history_dir,\n",
    "    num_trials=num_trials,\n",
    "    rng_type=\"Ibm\",\n",
    "    parameters=parameters,\n",
    "    num_city=10,\n",
    "    mod=GA,\n",
    "    mod_ver=\"BaseGA\",\n",
    "    problem=p9,\n",
    ")"
   ]
  },
  {
   "cell_type": "markdown",
   "metadata": {},
   "source": [
    "#### <span style=\"color:green; font-weight:bold;\">-Beam splitter qrng</span>\n"
   ]
  },
  {
   "cell_type": "code",
   "execution_count": null,
   "metadata": {},
   "outputs": [],
   "source": [
    "# Base directories\n",
    "base_starting_solution_dir = os.path.join(\"..\", \"starting_solution\", \"CEC2021\", \"F92021\")\n",
    "base_history_dir = os.path.join(\"..\", \"history\", \"ga\", \"CEC2021\", \"F92021\", \"BeamSplitter\")\n",
    "\n",
    "run_optimization_trials(\n",
    "    base_starting_solution_dir=base_starting_solution_dir,\n",
    "    base_history_dir=base_history_dir,\n",
    "    num_trials=num_trials,\n",
    "    rng_type=\"BeamSplitter\",\n",
    "    parameters=parameters,\n",
    "    num_city=10,\n",
    "    mod=GA,\n",
    "    mod_ver=\"BaseGA\",\n",
    "    problem=p9,\n",
    ")"
   ]
  },
  {
   "cell_type": "markdown",
   "metadata": {},
   "source": [
    "# <span style=\"color:blue; font-weight:bold;\">F102021</span>\n"
   ]
  },
  {
   "cell_type": "code",
   "execution_count": null,
   "metadata": {},
   "outputs": [],
   "source": [
    "from opfunu.cec_based.cec2021 import F102021\n",
    "\n",
    "f10 = F102021(10, f_bias=0)"
   ]
  },
  {
   "cell_type": "code",
   "execution_count": null,
   "metadata": {},
   "outputs": [],
   "source": [
    "p10 = {\n",
    "    \"bounds\": FloatVar(lb=f10.lb, ub=f10.ub),\n",
    "    \"obj_func\": f10.evaluate,\n",
    "    \"minmax\": \"min\",\n",
    "    \"name\": \"F10\",\n",
    "    \"save_population\": True\n",
    "}"
   ]
  },
  {
   "cell_type": "code",
   "execution_count": null,
   "metadata": {},
   "outputs": [],
   "source": [
    "# Create the problem instance\n",
    "bounds = FloatVar(lb=f10.lb, ub=f10.ub)"
   ]
  },
  {
   "cell_type": "markdown",
   "metadata": {},
   "source": [
    "#### <span style=\"color:green; font-weight:bold;\">-Mersene Twister</span>\n"
   ]
  },
  {
   "cell_type": "code",
   "execution_count": null,
   "metadata": {},
   "outputs": [],
   "source": [
    "# Base directories\n",
    "base_starting_solution_dir = os.path.join(\"..\", \"starting_solution\", \"CEC2021\", \"F102021\")\n",
    "base_history_dir = os.path.join(\"..\", \"history\", \"ga\", \"CEC2021\", \"F102021\", \"Mt19937\")\n",
    "\n",
    "run_optimization_trials(\n",
    "    base_starting_solution_dir=base_starting_solution_dir,\n",
    "    base_history_dir=base_history_dir,\n",
    "    num_trials=num_trials,\n",
    "    rng_type=\"Mt19937\",\n",
    "    parameters=parameters,\n",
    "    num_city=10,\n",
    "    mod=GA,\n",
    "    mod_ver=\"BaseGA\",\n",
    "    problem=p10,\n",
    ")"
   ]
  },
  {
   "cell_type": "markdown",
   "metadata": {},
   "source": [
    "#### <span style=\"color:green; font-weight:bold;\">-Quasirandom</span>\n"
   ]
  },
  {
   "cell_type": "code",
   "execution_count": null,
   "metadata": {},
   "outputs": [],
   "source": [
    "# Base directories\n",
    "base_starting_solution_dir = os.path.join(\"..\", \"starting_solution\", \"CEC2021\", \"F102021\")\n",
    "base_history_dir = os.path.join(\"..\", \"history\", \"ga\", \"CEC2021\", \"F102021\", \"QuasiRandom\")\n",
    "\n",
    "run_optimization_trials(\n",
    "    base_starting_solution_dir=base_starting_solution_dir,\n",
    "    base_history_dir=base_history_dir,\n",
    "    num_trials=num_trials,\n",
    "    rng_type=\"QuasiRandom\",\n",
    "    parameters=parameters,\n",
    "    num_city=10,\n",
    "    mod=GA,\n",
    "    mod_ver=\"BaseGA\",\n",
    "    problem=p10,\n",
    ")"
   ]
  },
  {
   "cell_type": "markdown",
   "metadata": {},
   "source": [
    "#### <span style=\"color:green; font-weight:bold;\">-Ibm qrng</span>\n"
   ]
  },
  {
   "cell_type": "code",
   "execution_count": null,
   "metadata": {},
   "outputs": [],
   "source": [
    "# Base directories\n",
    "base_starting_solution_dir = os.path.join(\"..\", \"starting_solution\", \"CEC2021\", \"F102021\")\n",
    "base_history_dir = os.path.join(\"..\", \"history\", \"ga\", \"CEC2021\", \"F102021\", \"Ibm\")\n",
    "\n",
    "run_optimization_trials(\n",
    "    base_starting_solution_dir=base_starting_solution_dir,\n",
    "    base_history_dir=base_history_dir,\n",
    "    num_trials=num_trials,\n",
    "    rng_type=\"Ibm\",\n",
    "    parameters=parameters,\n",
    "    num_city=10,\n",
    "    mod=GA,\n",
    "    mod_ver=\"BaseGA\",\n",
    "    problem=p10,\n",
    ")"
   ]
  },
  {
   "cell_type": "markdown",
   "metadata": {},
   "source": [
    "#### <span style=\"color:green; font-weight:bold;\">-Beam splitter qrng</span>\n"
   ]
  },
  {
   "cell_type": "code",
   "execution_count": null,
   "metadata": {},
   "outputs": [],
   "source": [
    "# Base directories\n",
    "base_starting_solution_dir = os.path.join(\"..\", \"starting_solution\", \"CEC2021\", \"F102021\")\n",
    "base_history_dir = os.path.join(\"..\", \"history\", \"ga\", \"CEC2021\", \"F102021\", \"BeamSplitter\")\n",
    "\n",
    "run_optimization_trials(\n",
    "    base_starting_solution_dir=base_starting_solution_dir,\n",
    "    base_history_dir=base_history_dir,\n",
    "    num_trials=num_trials,\n",
    "    rng_type=\"BeamSplitter\",\n",
    "    parameters=parameters,\n",
    "    num_city=10,\n",
    "    mod=GA,\n",
    "    mod_ver=\"BaseGA\",\n",
    "    problem=p10,\n",
    ")"
   ]
  }
 ],
 "metadata": {
  "kernelspec": {
   "display_name": "Python 3",
   "language": "python",
   "name": "python3"
  },
  "language_info": {
   "codemirror_mode": {
    "name": "ipython",
    "version": 3
   },
   "file_extension": ".py",
   "mimetype": "text/x-python",
   "name": "python",
   "nbconvert_exporter": "python",
   "pygments_lexer": "ipython3",
   "version": "3.11.9"
  }
 },
 "nbformat": 4,
 "nbformat_minor": 2
}
