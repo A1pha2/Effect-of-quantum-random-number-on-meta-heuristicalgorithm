{
 "cells": [
  {
   "cell_type": "code",
   "execution_count": null,
   "metadata": {},
   "outputs": [],
   "source": [
    "from mealpy.evolutionary_based import GA\n",
    "import os\n",
    "import numpy as np\n",
    "from mealpy import PermutationVar, BinaryVar, FloatVar"
   ]
  },
  {
   "cell_type": "code",
   "execution_count": null,
   "metadata": {},
   "outputs": [],
   "source": [
    "os.chdir(\"/home/user/quantum-project/quantum-project/Ga\") "
   ]
  },
  {
   "cell_type": "markdown",
   "metadata": {},
   "source": [
    "# <span style=\"color:blue; font-weight:bold;\">brock200_2.clq</span>\n"
   ]
  },
  {
   "cell_type": "code",
   "execution_count": null,
   "metadata": {},
   "outputs": [],
   "source": [
    "import sys\n",
    "\n",
    "# Add the parent directory to the Python path\n",
    "parent_dir = os.path.abspath(os.path.join(os.getcwd(), \"..\"))\n",
    "sys.path.append(parent_dir)\n",
    "from Maxcut import *\n",
    "from run_function import *\n",
    "from config import parameters, num_trials"
   ]
  },
  {
   "cell_type": "code",
   "execution_count": null,
   "metadata": {},
   "outputs": [],
   "source": [
    "filePath2 = os.path.join(\"..\", \"maxcut_problem\", \"brock200_2.clq.txt\")\n",
    "edges = load_maxcut_file(filePath2)"
   ]
  },
  {
   "cell_type": "code",
   "execution_count": null,
   "metadata": {},
   "outputs": [],
   "source": [
    "data1, num_nodes1 = prepare_maxcut_data(edges)\n",
    "# print(data1)"
   ]
  },
  {
   "cell_type": "code",
   "execution_count": null,
   "metadata": {},
   "outputs": [],
   "source": [
    "# Create the problem instance\n",
    "bounds = [BinaryVar(n_vars=num_nodes1, name=\"binary\")]\n",
    "problem = MaxCutProblem(bounds=bounds, minmax=\"max\", data=data1, save_population=True)"
   ]
  },
  {
   "cell_type": "markdown",
   "metadata": {},
   "source": [
    "#### <span style=\"color:green; font-weight:bold;\">-Mersene Twister</span>\n"
   ]
  },
  {
   "cell_type": "code",
   "execution_count": null,
   "metadata": {},
   "outputs": [],
   "source": [
    "# Base directories\n",
    "base_starting_solution_dir = os.path.join(\"..\", \"starting_solution\", \"Maxcut\", \"Brock200_2\")\n",
    "base_history_dir = os.path.join(\"..\", \"history\", \"ga\", \"maxcut\", \"Brock200_2\", \"Mt19937\")\n",
    "\n",
    "run_optimization_trials(\n",
    "    base_starting_solution_dir=base_starting_solution_dir,\n",
    "    base_history_dir=base_history_dir,\n",
    "    num_trials=num_trials,\n",
    "    rng_type=\"Mt19937\",\n",
    "    parameters=parameters,\n",
    "    num_city=200,\n",
    "    mod=GA,\n",
    "    mod_ver=\"BaseGA\",\n",
    "    problem=problem,\n",
    ")"
   ]
  },
  {
   "cell_type": "markdown",
   "metadata": {},
   "source": [
    "#### <span style=\"color:green; font-weight:bold;\">-Quasirandom</span>\n"
   ]
  },
  {
   "cell_type": "code",
   "execution_count": null,
   "metadata": {},
   "outputs": [],
   "source": [
    "# Base directories\n",
    "base_starting_solution_dir = os.path.join(\"..\", \"starting_solution\", \"Maxcut\", \"Brock200_2\")\n",
    "base_history_dir = os.path.join(\"..\", \"history\", \"ga\", \"maxcut\", \"Brock200_2\", \"QuasiRandom\")\n",
    "\n",
    "run_optimization_trials(\n",
    "    base_starting_solution_dir=base_starting_solution_dir,\n",
    "    base_history_dir=base_history_dir,\n",
    "    num_trials=num_trials,\n",
    "    rng_type=\"QuasiRandom\",\n",
    "    parameters=parameters,\n",
    "    num_city=200,\n",
    "    mod=GA,\n",
    "    mod_ver=\"BaseGA\",\n",
    "    problem=problem,\n",
    ")"
   ]
  },
  {
   "cell_type": "markdown",
   "metadata": {},
   "source": [
    "#### <span style=\"color:green; font-weight:bold;\">-Ibm qrng</span>\n"
   ]
  },
  {
   "cell_type": "code",
   "execution_count": null,
   "metadata": {},
   "outputs": [],
   "source": [
    "# Base directories\n",
    "base_starting_solution_dir = os.path.join(\"..\", \"starting_solution\", \"Maxcut\", \"Brock200_2\")\n",
    "base_history_dir = os.path.join(\"..\", \"history\", \"ga\", \"maxcut\", \"Brock200_2\", \"Ibm\")\n",
    "\n",
    "run_optimization_trials(\n",
    "    base_starting_solution_dir=base_starting_solution_dir,\n",
    "    base_history_dir=base_history_dir,\n",
    "    num_trials=num_trials,\n",
    "    rng_type=\"Ibm\",\n",
    "    parameters=parameters,\n",
    "    num_city=200,\n",
    "    mod=GA,    \n",
    "    mod_ver=\"BaseGA\",\n",
    "    problem=problem,\n",
    ")"
   ]
  },
  {
   "cell_type": "markdown",
   "metadata": {},
   "source": [
    "#### <span style=\"color:green; font-weight:bold;\">-Beam splitter qrng</span>\n"
   ]
  },
  {
   "cell_type": "code",
   "execution_count": null,
   "metadata": {},
   "outputs": [],
   "source": [
    "# Base directories\n",
    "base_starting_solution_dir = os.path.join(\"..\", \"starting_solution\", \"Maxcut\", \"Brock200_2\")\n",
    "base_history_dir = os.path.join(\"..\", \"history\", \"ga\", \"maxcut\", \"Brock200_2\", \"BeamSplitter\")\n",
    "\n",
    "run_optimization_trials(\n",
    "    base_starting_solution_dir=base_starting_solution_dir,\n",
    "    base_history_dir=base_history_dir,\n",
    "    num_trials=num_trials,\n",
    "    rng_type=\"BeamSplitter\",\n",
    "    parameters=parameters,\n",
    "    num_city=200,\n",
    "    mod=GA,    \n",
    "    mod_ver=\"BaseGA\",\n",
    "    problem=problem,\n",
    ")"
   ]
  },
  {
   "cell_type": "markdown",
   "metadata": {},
   "source": [
    "# <span style=\"color:blue; font-weight:bold;\">brock200_4.clq</span>\n"
   ]
  },
  {
   "cell_type": "code",
   "execution_count": null,
   "metadata": {},
   "outputs": [],
   "source": [
    "filePath2 = os.path.join(\"..\", \"maxcut_problem\", \"brock200_4.clq.txt\")\n",
    "edges = load_maxcut_file(filePath2)"
   ]
  },
  {
   "cell_type": "code",
   "execution_count": null,
   "metadata": {},
   "outputs": [],
   "source": [
    "data1, num_nodes1 = prepare_maxcut_data(edges)\n",
    "# print(data1)"
   ]
  },
  {
   "cell_type": "code",
   "execution_count": null,
   "metadata": {},
   "outputs": [],
   "source": [
    "# Create the problem instance\n",
    "bounds = [BinaryVar(n_vars=num_nodes1, name=\"binary\")]\n",
    "problem = MaxCutProblem(bounds=bounds, minmax=\"max\", data=data1, save_population=True)"
   ]
  },
  {
   "cell_type": "markdown",
   "metadata": {},
   "source": [
    "#### <span style=\"color:green; font-weight:bold;\">-Mersene Twister</span>\n"
   ]
  },
  {
   "cell_type": "code",
   "execution_count": null,
   "metadata": {},
   "outputs": [],
   "source": [
    "# Base directories\n",
    "base_starting_solution_dir = os.path.join(\"..\", \"starting_solution\", \"Maxcut\", \"Brock200_4\")\n",
    "base_history_dir = os.path.join(\"..\", \"history\", \"ga\", \"maxcut\", \"Brock200_4\", \"Mt19937\")\n",
    "\n",
    "run_optimization_trials(\n",
    "    base_starting_solution_dir=base_starting_solution_dir,\n",
    "    base_history_dir=base_history_dir,\n",
    "    num_trials=num_trials,\n",
    "    rng_type=\"Mt19937\",\n",
    "    parameters=parameters,\n",
    "    num_city=200,\n",
    "    mod=GA,\n",
    "    mod_ver=\"BaseGA\",\n",
    "    problem=problem,\n",
    ")"
   ]
  },
  {
   "cell_type": "markdown",
   "metadata": {},
   "source": [
    "#### <span style=\"color:green; font-weight:bold;\">-Quasirandom</span>\n"
   ]
  },
  {
   "cell_type": "code",
   "execution_count": null,
   "metadata": {},
   "outputs": [],
   "source": [
    "# Base directories\n",
    "base_starting_solution_dir = os.path.join(\"..\", \"starting_solution\", \"Maxcut\", \"Brock200_4\")\n",
    "base_history_dir = os.path.join(\"..\", \"history\", \"ga\", \"maxcut\", \"Brock200_4\", \"QuasiRandom\")\n",
    "\n",
    "run_optimization_trials(\n",
    "    base_starting_solution_dir=base_starting_solution_dir,\n",
    "    base_history_dir=base_history_dir,\n",
    "    num_trials=num_trials,\n",
    "    rng_type=\"QuasiRandom\",\n",
    "    parameters=parameters,\n",
    "    num_city=200,\n",
    "    mod=GA,\n",
    "    mod_ver=\"BaseGA\",\n",
    "    problem=problem,\n",
    ")"
   ]
  },
  {
   "cell_type": "markdown",
   "metadata": {},
   "source": [
    "#### <span style=\"color:green; font-weight:bold;\">-Ibm qrng</span>\n"
   ]
  },
  {
   "cell_type": "code",
   "execution_count": null,
   "metadata": {},
   "outputs": [],
   "source": [
    "# Base directories\n",
    "base_starting_solution_dir = os.path.join(\"..\", \"starting_solution\", \"Maxcut\", \"Brock200_4\")\n",
    "base_history_dir = os.path.join(\"..\", \"history\", \"ga\", \"maxcut\", \"Brock200_4\", \"Ibm\")\n",
    "\n",
    "run_optimization_trials(\n",
    "    base_starting_solution_dir=base_starting_solution_dir,\n",
    "    base_history_dir=base_history_dir,\n",
    "    num_trials=num_trials,\n",
    "    rng_type=\"Ibm\",\n",
    "    parameters=parameters,\n",
    "    num_city=200,\n",
    "    mod=GA,\n",
    "    mod_ver=\"BaseGA\",\n",
    "    problem=problem,\n",
    ")"
   ]
  },
  {
   "cell_type": "markdown",
   "metadata": {},
   "source": [
    "#### <span style=\"color:green; font-weight:bold;\">-Beam splitter qrng</span>\n"
   ]
  },
  {
   "cell_type": "code",
   "execution_count": null,
   "metadata": {},
   "outputs": [],
   "source": [
    "# Base directories\n",
    "base_starting_solution_dir = os.path.join(\"..\", \"starting_solution\", \"Maxcut\", \"Brock200_4\")\n",
    "base_history_dir = os.path.join(\"..\", \"history\", \"ga\", \"maxcut\", \"Brock200_4\", \"BeamSplitter\")\n",
    "\n",
    "run_optimization_trials(\n",
    "    base_starting_solution_dir=base_starting_solution_dir,\n",
    "    base_history_dir=base_history_dir,\n",
    "    num_trials=num_trials,\n",
    "    rng_type=\"BeamSplitter\",\n",
    "    parameters=parameters,\n",
    "    num_city=200,\n",
    "    mod=GA,\n",
    "    mod_ver=\"BaseGA\",\n",
    "    problem=problem,\n",
    ")"
   ]
  },
  {
   "cell_type": "markdown",
   "metadata": {},
   "source": [
    "# <span style=\"color:blue; font-weight:bold;\">C125.9.clq</span>"
   ]
  },
  {
   "cell_type": "code",
   "execution_count": null,
   "metadata": {},
   "outputs": [],
   "source": [
    "filePath2 = os.path.join(\"..\", \"maxcut_problem\", \"C125.9.clq.txt\")\n",
    "edges = load_maxcut_file(filePath2)"
   ]
  },
  {
   "cell_type": "code",
   "execution_count": null,
   "metadata": {},
   "outputs": [],
   "source": [
    "data1, num_nodes1 = prepare_maxcut_data(edges)\n",
    "# print(data1)"
   ]
  },
  {
   "cell_type": "code",
   "execution_count": null,
   "metadata": {},
   "outputs": [],
   "source": [
    "# Create the problem instance\n",
    "bounds = [BinaryVar(n_vars=num_nodes1, name=\"binary\")]\n",
    "problem = MaxCutProblem(bounds=bounds, minmax=\"max\", data=data1, save_population=True)"
   ]
  },
  {
   "cell_type": "markdown",
   "metadata": {},
   "source": [
    "#### <span style=\"color:green; font-weight:bold;\">-Mersene Twister</span>\n"
   ]
  },
  {
   "cell_type": "code",
   "execution_count": null,
   "metadata": {},
   "outputs": [],
   "source": [
    "# Base directories\n",
    "base_starting_solution_dir = os.path.join(\"..\", \"starting_solution\", \"Maxcut\", \"C125.9\")\n",
    "base_history_dir = os.path.join(\"..\", \"history\", \"ga\", \"maxcut\", \"C125.9\", \"Mt19937\")\n",
    "\n",
    "run_optimization_trials(\n",
    "    base_starting_solution_dir=base_starting_solution_dir,\n",
    "    base_history_dir=base_history_dir,\n",
    "    num_trials=num_trials,\n",
    "    rng_type=\"Mt19937\",\n",
    "    parameters=parameters,\n",
    "    num_city=125,\n",
    "    mod=GA,\n",
    "    mod_ver=\"BaseGA\",\n",
    "    problem=problem,\n",
    ")"
   ]
  },
  {
   "cell_type": "markdown",
   "metadata": {},
   "source": [
    "#### <span style=\"color:green; font-weight:bold;\">-Quasirandom</span>\n"
   ]
  },
  {
   "cell_type": "code",
   "execution_count": null,
   "metadata": {},
   "outputs": [],
   "source": [
    "# Base directories\n",
    "base_starting_solution_dir = os.path.join(\"..\", \"starting_solution\", \"Maxcut\", \"C125.9\")\n",
    "base_history_dir = os.path.join(\"..\", \"history\", \"ga\", \"maxcut\", \"C125.9\", \"QuasiRandom\")\n",
    "\n",
    "run_optimization_trials(\n",
    "    base_starting_solution_dir=base_starting_solution_dir,\n",
    "    base_history_dir=base_history_dir,\n",
    "    num_trials=num_trials,\n",
    "    rng_type=\"QuasiRandom\",\n",
    "    parameters=parameters,\n",
    "    num_city=125,\n",
    "    mod=GA,\n",
    "    mod_ver=\"BaseGA\",\n",
    "    problem=problem,\n",
    ")"
   ]
  },
  {
   "cell_type": "markdown",
   "metadata": {},
   "source": [
    "#### <span style=\"color:green; font-weight:bold;\">-Ibm qrng</span>\n"
   ]
  },
  {
   "cell_type": "code",
   "execution_count": null,
   "metadata": {},
   "outputs": [],
   "source": [
    "# Base directories\n",
    "base_starting_solution_dir = os.path.join(\"..\", \"starting_solution\", \"Maxcut\", \"C125.9\")\n",
    "base_history_dir = os.path.join(\"..\", \"history\", \"ga\", \"maxcut\", \"C125.9\", \"Ibm\")\n",
    "\n",
    "run_optimization_trials(\n",
    "    base_starting_solution_dir=base_starting_solution_dir,\n",
    "    base_history_dir=base_history_dir,\n",
    "    num_trials=num_trials,\n",
    "    rng_type=\"Ibm\",\n",
    "    parameters=parameters,\n",
    "    num_city=125,\n",
    "    mod=GA,\n",
    "    mod_ver=\"BaseGA\",\n",
    "    problem=problem,\n",
    ")"
   ]
  },
  {
   "cell_type": "markdown",
   "metadata": {},
   "source": [
    "#### <span style=\"color:green; font-weight:bold;\">-Beam splitter qrng</span>\n"
   ]
  },
  {
   "cell_type": "code",
   "execution_count": null,
   "metadata": {},
   "outputs": [],
   "source": [
    "# Base directories\n",
    "base_starting_solution_dir = os.path.join(\"..\", \"starting_solution\", \"Maxcut\", \"C125.9\")\n",
    "base_history_dir = os.path.join(\"..\", \"history\", \"ga\", \"maxcut\", \"C125.9\", \"BeamSplitter\")\n",
    "\n",
    "run_optimization_trials(\n",
    "    base_starting_solution_dir=base_starting_solution_dir,\n",
    "    base_history_dir=base_history_dir,\n",
    "    num_trials=num_trials,\n",
    "    rng_type=\"BeamSplitter\",\n",
    "    parameters=parameters,\n",
    "    num_city=125,\n",
    "    mod=GA,\n",
    "    mod_ver=\"BaseGA\",\n",
    "    problem=problem,\n",
    ")"
   ]
  },
  {
   "cell_type": "markdown",
   "metadata": {},
   "source": [
    "# <span style=\"color:blue; font-weight:bold;\">gen200_p0.9_44.b.clq</span>"
   ]
  },
  {
   "cell_type": "code",
   "execution_count": null,
   "metadata": {},
   "outputs": [],
   "source": [
    "filePath2 = os.path.join(\"..\", \"maxcut_problem\", \"gen200_p0.9_44.b.clq.txt\")\n",
    "edges = load_maxcut_file(filePath2)"
   ]
  },
  {
   "cell_type": "code",
   "execution_count": null,
   "metadata": {},
   "outputs": [],
   "source": [
    "data1, num_nodes1 = prepare_maxcut_data(edges)\n",
    "# print(data1)"
   ]
  },
  {
   "cell_type": "code",
   "execution_count": null,
   "metadata": {},
   "outputs": [],
   "source": [
    "# Create the problem instance\n",
    "bounds = [BinaryVar(n_vars=num_nodes1, name=\"binary\")]\n",
    "problem = MaxCutProblem(bounds=bounds, minmax=\"max\", data=data1, save_population=True)"
   ]
  },
  {
   "cell_type": "markdown",
   "metadata": {},
   "source": [
    "#### <span style=\"color:green; font-weight:bold;\">-Mersene Twister</span>\n"
   ]
  },
  {
   "cell_type": "code",
   "execution_count": null,
   "metadata": {},
   "outputs": [],
   "source": [
    "# Base directories\n",
    "base_starting_solution_dir = os.path.join(\"..\", \"starting_solution\", \"Maxcut\", \"gen200_p0.9_44.b\")\n",
    "base_history_dir = os.path.join(\"..\", \"history\", \"ga\", \"maxcut\", \"gen200_p0.9_44.b\", \"Mt19937\")\n",
    "\n",
    "run_optimization_trials(\n",
    "    base_starting_solution_dir=base_starting_solution_dir,\n",
    "    base_history_dir=base_history_dir,\n",
    "    num_trials=num_trials,\n",
    "    rng_type=\"Mt19937\",\n",
    "    parameters=parameters,\n",
    "    num_city=200,\n",
    "    mod=GA,\n",
    "    mod_ver=\"BaseGA\",\n",
    "    problem=problem,\n",
    ")"
   ]
  },
  {
   "cell_type": "markdown",
   "metadata": {},
   "source": [
    "#### <span style=\"color:green; font-weight:bold;\">-Quasirandom</span>\n"
   ]
  },
  {
   "cell_type": "code",
   "execution_count": null,
   "metadata": {},
   "outputs": [],
   "source": [
    "# Base directories\n",
    "base_starting_solution_dir = os.path.join(\"..\", \"starting_solution\", \"Maxcut\", \"gen200_p0.9_44.b\")\n",
    "base_history_dir = os.path.join(\"..\", \"history\", \"ga\", \"maxcut\", \"gen200_p0.9_44.b\", \"QuasiRandom\")\n",
    "\n",
    "run_optimization_trials(\n",
    "    base_starting_solution_dir=base_starting_solution_dir,\n",
    "    base_history_dir=base_history_dir,\n",
    "    num_trials=num_trials,\n",
    "    rng_type=\"QuasiRandom\",\n",
    "    parameters=parameters,\n",
    "    num_city=200,\n",
    "    mod=GA,\n",
    "    mod_ver=\"BaseGA\",\n",
    "    problem=problem,\n",
    ")"
   ]
  },
  {
   "cell_type": "markdown",
   "metadata": {},
   "source": [
    "#### <span style=\"color:green; font-weight:bold;\">-Ibm qrng</span>\n"
   ]
  },
  {
   "cell_type": "code",
   "execution_count": null,
   "metadata": {},
   "outputs": [],
   "source": [
    "# Base directories\n",
    "base_starting_solution_dir = os.path.join(\"..\", \"starting_solution\", \"Maxcut\", \"gen200_p0.9_44.b\")\n",
    "base_history_dir = os.path.join(\"..\", \"history\", \"ga\", \"maxcut\", \"gen200_p0.9_44.b\", \"Ibm\")\n",
    "\n",
    "run_optimization_trials(\n",
    "    base_starting_solution_dir=base_starting_solution_dir,\n",
    "    base_history_dir=base_history_dir,\n",
    "    num_trials=num_trials,\n",
    "    rng_type=\"Ibm\",\n",
    "    parameters=parameters,\n",
    "    num_city=200,\n",
    "    mod=GA,\n",
    "    mod_ver=\"BaseGA\",\n",
    "    problem=problem,\n",
    ")"
   ]
  },
  {
   "cell_type": "markdown",
   "metadata": {},
   "source": [
    "#### <span style=\"color:green; font-weight:bold;\">-Beam splitter qrng</span>\n"
   ]
  },
  {
   "cell_type": "code",
   "execution_count": null,
   "metadata": {},
   "outputs": [],
   "source": [
    "# Base directories\n",
    "base_starting_solution_dir = os.path.join(\"..\", \"starting_solution\", \"Maxcut\", \"gen200_p0.9_44.b\")\n",
    "base_history_dir = os.path.join(\"..\", \"history\", \"ga\", \"maxcut\", \"gen200_p0.9_44.b\", \"BeamSplitter\")\n",
    "\n",
    "run_optimization_trials(\n",
    "    base_starting_solution_dir=base_starting_solution_dir,\n",
    "    base_history_dir=base_history_dir,\n",
    "    num_trials=num_trials,\n",
    "    rng_type=\"BeamSplitter\",\n",
    "    parameters=parameters,\n",
    "    num_city=200,\n",
    "    mod=GA,\n",
    "    mod_ver=\"BaseGA\",\n",
    "    problem=problem,\n",
    ")"
   ]
  },
  {
   "cell_type": "markdown",
   "metadata": {},
   "source": [
    "# <span style=\"color:blue; font-weight:bold;\">keller4.clq</span>"
   ]
  },
  {
   "cell_type": "code",
   "execution_count": null,
   "metadata": {},
   "outputs": [],
   "source": [
    "filePath2 = os.path.join(\"..\", \"maxcut_problem\", \"keller4.clq.txt\")\n",
    "edges = load_maxcut_file(filePath2)"
   ]
  },
  {
   "cell_type": "code",
   "execution_count": null,
   "metadata": {},
   "outputs": [],
   "source": [
    "data1, num_nodes1 = prepare_maxcut_data(edges)\n",
    "# print(data1)"
   ]
  },
  {
   "cell_type": "code",
   "execution_count": null,
   "metadata": {},
   "outputs": [],
   "source": [
    "# Create the problem instance\n",
    "bounds = [BinaryVar(n_vars=num_nodes1, name=\"binary\")]\n",
    "problem = MaxCutProblem(bounds=bounds, minmax=\"max\", data=data1, save_population=True)"
   ]
  },
  {
   "cell_type": "markdown",
   "metadata": {},
   "source": [
    "#### <span style=\"color:green; font-weight:bold;\">-Mersene Twister</span>\n"
   ]
  },
  {
   "cell_type": "code",
   "execution_count": null,
   "metadata": {},
   "outputs": [],
   "source": [
    "# Base directories\n",
    "base_starting_solution_dir = os.path.join(\"..\", \"starting_solution\", \"Maxcut\", \"Keller4\")\n",
    "base_history_dir = os.path.join(\"..\", \"history\", \"ga\", \"maxcut\", \"Keller4\", \"Mt19937\")\n",
    "\n",
    "run_optimization_trials(\n",
    "    base_starting_solution_dir=base_starting_solution_dir,\n",
    "    base_history_dir=base_history_dir,\n",
    "    num_trials=num_trials,\n",
    "    rng_type=\"Mt19937\",\n",
    "    parameters=parameters,\n",
    "    num_city=171,\n",
    "    mod=GA,\n",
    "    mod_ver=\"BaseGA\",\n",
    "    problem=problem,\n",
    ")"
   ]
  },
  {
   "cell_type": "markdown",
   "metadata": {},
   "source": [
    "#### <span style=\"color:green; font-weight:bold;\">-Quasirandom</span>\n"
   ]
  },
  {
   "cell_type": "code",
   "execution_count": null,
   "metadata": {},
   "outputs": [],
   "source": [
    "# Base directories\n",
    "base_starting_solution_dir = os.path.join(\"..\", \"starting_solution\", \"Maxcut\", \"Keller4\")\n",
    "base_history_dir = os.path.join(\"..\", \"history\", \"ga\", \"maxcut\", \"Keller4\", \"QuasiRandom\")\n",
    "\n",
    "run_optimization_trials(\n",
    "    base_starting_solution_dir=base_starting_solution_dir,\n",
    "    base_history_dir=base_history_dir,\n",
    "    num_trials=num_trials,\n",
    "    rng_type=\"QuasiRandom\",\n",
    "    parameters=parameters,\n",
    "    num_city=171,\n",
    "    mod=GA,\n",
    "    mod_ver=\"BaseGA\",\n",
    "    problem=problem,\n",
    ")"
   ]
  },
  {
   "cell_type": "markdown",
   "metadata": {},
   "source": [
    "#### <span style=\"color:green; font-weight:bold;\">-Ibm qrng</span>\n"
   ]
  },
  {
   "cell_type": "code",
   "execution_count": null,
   "metadata": {},
   "outputs": [],
   "source": [
    "# Base directories\n",
    "base_starting_solution_dir = os.path.join(\"..\", \"starting_solution\", \"Maxcut\", \"Keller4\")\n",
    "base_history_dir = os.path.join(\"..\", \"history\", \"ga\", \"maxcut\", \"Keller4\", \"Ibm\")\n",
    "\n",
    "run_optimization_trials(\n",
    "    base_starting_solution_dir=base_starting_solution_dir,\n",
    "    base_history_dir=base_history_dir,\n",
    "    num_trials=num_trials,\n",
    "    rng_type=\"Ibm\",\n",
    "    parameters=parameters,\n",
    "    num_city=171,\n",
    "    mod=GA,\n",
    "    mod_ver=\"BaseGA\",\n",
    "    problem=problem,\n",
    ")"
   ]
  },
  {
   "cell_type": "markdown",
   "metadata": {},
   "source": [
    "#### <span style=\"color:green; font-weight:bold;\">-Beam splitter qrng</span>\n"
   ]
  },
  {
   "cell_type": "code",
   "execution_count": null,
   "metadata": {},
   "outputs": [],
   "source": [
    "# Base directories\n",
    "base_starting_solution_dir = os.path.join(\"..\", \"starting_solution\", \"Maxcut\", \"Keller4\")\n",
    "base_history_dir = os.path.join(\"..\", \"history\", \"ga\", \"maxcut\", \"Keller4\", \"BeamSplitter\")\n",
    "\n",
    "run_optimization_trials(\n",
    "    base_starting_solution_dir=base_starting_solution_dir,\n",
    "    base_history_dir=base_history_dir,\n",
    "    num_trials=num_trials,\n",
    "    rng_type=\"BeamSplitter\",\n",
    "    parameters=parameters,\n",
    "    num_city=171,\n",
    "    mod=GA,\n",
    "    mod_ver=\"BaseGA\",\n",
    "    problem=problem,\n",
    ")"
   ]
  }
 ],
 "metadata": {
  "kernelspec": {
   "display_name": "Python 3",
   "language": "python",
   "name": "python3"
  },
  "language_info": {
   "codemirror_mode": {
    "name": "ipython",
    "version": 3
   },
   "file_extension": ".py",
   "mimetype": "text/x-python",
   "name": "python",
   "nbconvert_exporter": "python",
   "pygments_lexer": "ipython3",
   "version": "3.11.9"
  }
 },
 "nbformat": 4,
 "nbformat_minor": 2
}
