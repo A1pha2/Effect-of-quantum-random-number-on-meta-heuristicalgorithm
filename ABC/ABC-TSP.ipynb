{
 "cells": [
  {
   "cell_type": "code",
   "execution_count": null,
   "metadata": {},
   "outputs": [],
   "source": [
    "from mealpy.swarm_based import ABC\n",
    "import os\n",
    "import numpy as np\n",
    "from mealpy import PermutationVar, BinaryVar, FloatVar"
   ]
  },
  {
   "cell_type": "markdown",
   "metadata": {},
   "source": [
    "# <span style=\"color:blue; font-weight:bold;\">TSP problem</span>\n"
   ]
  },
  {
   "cell_type": "markdown",
   "metadata": {},
   "source": [
    "### <span style=\"color:yellow; font-weight:bold;\">berlin52.tsp</span>\n"
   ]
  },
  {
   "cell_type": "code",
   "execution_count": null,
   "metadata": {},
   "outputs": [],
   "source": [
    "os.chdir(\"/home/user/quantum-project/quantum-project/ABC\") "
   ]
  },
  {
   "cell_type": "code",
   "execution_count": null,
   "metadata": {},
   "outputs": [],
   "source": [
    "import sys\n",
    "\n",
    "# Add the parent directory to the Python path\n",
    "parent_dir = os.path.abspath(os.path.join(os.getcwd(), \"..\"))\n",
    "sys.path.append(parent_dir)\n",
    "\n",
    "# Now import from TSP.py\n",
    "from TSP import *\n",
    "from run_function import *\n",
    "from config import parameters, num_trials"
   ]
  },
  {
   "cell_type": "code",
   "execution_count": null,
   "metadata": {},
   "outputs": [],
   "source": [
    "filePath1 = os.path.join(\"..\",\"TSP_problem\",\"berlin52.tsp\")\n",
    "coordinates1 = load_tsplib_tsp(filePath1)\n",
    "data, num_cities = prepare_tsp_data(coordinates1)"
   ]
  },
  {
   "cell_type": "code",
   "execution_count": null,
   "metadata": {},
   "outputs": [],
   "source": [
    "distance_matrix = create_distance_matrix(coordinates1)\n",
    "print(distance_matrix)"
   ]
  },
  {
   "cell_type": "code",
   "execution_count": null,
   "metadata": {},
   "outputs": [],
   "source": [
    "# Create the problem instance\n",
    "bounds = PermutationVar(valid_set=list(range(0, num_cities)), name=\"per_var\")\n",
    "problem = TspProblem(bounds=bounds, minmax=\"min\", data=data, save_population=True)"
   ]
  },
  {
   "cell_type": "markdown",
   "metadata": {},
   "source": [
    "#### <span style=\"color:green; font-weight:bold;\">-Mersene Twister</span>\n"
   ]
  },
  {
   "cell_type": "code",
   "execution_count": null,
   "metadata": {},
   "outputs": [],
   "source": [
    "# Base directories\n",
    "base_starting_solution_dir = os.path.join(\"..\", \"starting_solution\", \"TSP\", \"Berlin52\")\n",
    "base_history_dir = os.path.join(\"..\", \"history\", \"ABC\", \"tsp\", \"Berlin52\", \"Mt19937\")\n",
    "\n",
    "run_optimization_trials(\n",
    "    base_starting_solution_dir=base_starting_solution_dir,\n",
    "    base_history_dir=base_history_dir,\n",
    "    num_trials=num_trials,\n",
    "    rng_type=\"Mt19937\",\n",
    "    parameters=parameters,\n",
    "    num_city=52,\n",
    "    mod=ABC,\n",
    "    mod_ver=\"OriginalABC\",\n",
    "    problem=problem,\n",
    ")"
   ]
  },
  {
   "cell_type": "markdown",
   "metadata": {},
   "source": [
    "#### <span style=\"color:green; font-weight:bold;\">-Quasirandom</span>\n"
   ]
  },
  {
   "cell_type": "code",
   "execution_count": null,
   "metadata": {},
   "outputs": [],
   "source": [
    "# Base directories\n",
    "base_starting_solution_dir = os.path.join(\"..\", \"starting_solution\", \"TSP\", \"Berlin52\")\n",
    "base_history_dir = os.path.join(\"..\", \"history\", \"ABC\", \"tsp\", \"Berlin52\", \"QuasiRandom\")\n",
    "\n",
    "run_optimization_trials(\n",
    "    base_starting_solution_dir=base_starting_solution_dir,\n",
    "    base_history_dir=base_history_dir,\n",
    "    num_trials=num_trials,\n",
    "    rng_type=\"QuasiRandom\",\n",
    "    parameters=parameters,\n",
    "    num_city=52,\n",
    "    mod=ABC,\n",
    "    mod_ver=\"OriginalABC\",\n",
    "    problem=problem,\n",
    ")"
   ]
  },
  {
   "cell_type": "markdown",
   "metadata": {},
   "source": [
    "#### <span style=\"color:green; font-weight:bold;\">-Ibm qrng</span>\n"
   ]
  },
  {
   "cell_type": "code",
   "execution_count": null,
   "metadata": {},
   "outputs": [],
   "source": [
    "# Base directories\n",
    "base_starting_solution_dir = os.path.join(\"..\", \"starting_solution\", \"TSP\", \"Berlin52\")\n",
    "base_history_dir = os.path.join(\"..\", \"history\", \"ABC\", \"tsp\", \"Berlin52\", \"Ibm\")\n",
    "\n",
    "run_optimization_trials(\n",
    "    base_starting_solution_dir=base_starting_solution_dir,\n",
    "    base_history_dir=base_history_dir,\n",
    "    num_trials=num_trials,\n",
    "    rng_type=\"Ibm\",\n",
    "    parameters=parameters,\n",
    "    num_city=52,\n",
    "    mod=ABC,\n",
    "    mod_ver=\"OriginalABC\",\n",
    "    problem=problem,\n",
    ")"
   ]
  },
  {
   "cell_type": "markdown",
   "metadata": {},
   "source": [
    "#### <span style=\"color:green; font-weight:bold;\">-Beam splitter qrng</span>\n"
   ]
  },
  {
   "cell_type": "code",
   "execution_count": null,
   "metadata": {},
   "outputs": [],
   "source": [
    "# Base directories\n",
    "base_starting_solution_dir = os.path.join(\"..\", \"starting_solution\", \"TSP\", \"Berlin52\")\n",
    "base_history_dir = os.path.join(\"..\", \"history\", \"ABC\", \"tsp\", \"Berlin52\", \"BeamSplitter\")\n",
    "\n",
    "run_optimization_trials(\n",
    "    base_starting_solution_dir=base_starting_solution_dir,\n",
    "    base_history_dir=base_history_dir,\n",
    "    num_trials=num_trials,\n",
    "    rng_type=\"BeamSplitter\",\n",
    "    parameters=parameters,\n",
    "    num_city=52,\n",
    "    mod=ABC,\n",
    "    mod_ver=\"OriginalABC\",\n",
    "    problem=problem,\n",
    ")"
   ]
  },
  {
   "cell_type": "markdown",
   "metadata": {},
   "source": [
    "### <span style=\"color:yellow; font-weight:bold;\">Bier127.tsp</span>\n"
   ]
  },
  {
   "cell_type": "code",
   "execution_count": null,
   "metadata": {},
   "outputs": [],
   "source": [
    "filePath1 = os.path.join(\"..\",\"TSP_problem\",\"bier127.tsp\")\n",
    "coordinates1 = load_tsplib_tsp(filePath1)\n",
    "data, num_cities = prepare_tsp_data(coordinates1)"
   ]
  },
  {
   "cell_type": "code",
   "execution_count": null,
   "metadata": {},
   "outputs": [],
   "source": [
    "distance_matrix = create_distance_matrix(coordinates1)\n",
    "print(distance_matrix)"
   ]
  },
  {
   "cell_type": "code",
   "execution_count": null,
   "metadata": {},
   "outputs": [],
   "source": [
    "# Create the problem instance\n",
    "bounds = PermutationVar(valid_set=list(range(0, num_cities)), name=\"per_var\")\n",
    "problem = TspProblem(bounds=bounds, minmax=\"min\", data=data, save_population=True)"
   ]
  },
  {
   "cell_type": "markdown",
   "metadata": {},
   "source": [
    "#### <span style=\"color:green; font-weight:bold;\">-Mersene Twister</span>\n"
   ]
  },
  {
   "cell_type": "code",
   "execution_count": null,
   "metadata": {},
   "outputs": [],
   "source": [
    "# Base directories\n",
    "base_starting_solution_dir = os.path.join(\"..\", \"starting_solution\", \"TSP\", \"Bier127\")\n",
    "base_history_dir = os.path.join(\"..\", \"history\", \"ABC\", \"tsp\", \"Bier127\", \"Mt19937\")\n",
    "\n",
    "run_optimization_trials(\n",
    "    base_starting_solution_dir=base_starting_solution_dir,\n",
    "    base_history_dir=base_history_dir,\n",
    "    num_trials=num_trials,\n",
    "    rng_type=\"Mt19937\",\n",
    "    parameters=parameters,\n",
    "    num_city=127,\n",
    "    mod=ABC,\n",
    "    mod_ver=\"OriginalABC\",\n",
    "    problem=problem,\n",
    ")"
   ]
  },
  {
   "cell_type": "markdown",
   "metadata": {},
   "source": [
    "#### <span style=\"color:green; font-weight:bold;\">-Quasirandom</span>\n"
   ]
  },
  {
   "cell_type": "code",
   "execution_count": null,
   "metadata": {},
   "outputs": [],
   "source": [
    "# Base directories\n",
    "base_starting_solution_dir = os.path.join(\"..\", \"starting_solution\", \"TSP\", \"Bier127\")\n",
    "base_history_dir = os.path.join(\"..\", \"history\", \"ABC\", \"tsp\", \"Bier127\", \"QuasiRandom\")\n",
    "\n",
    "run_optimization_trials(\n",
    "    base_starting_solution_dir=base_starting_solution_dir,\n",
    "    base_history_dir=base_history_dir,\n",
    "    num_trials=num_trials,\n",
    "    rng_type=\"QuasiRandom\",\n",
    "    parameters=parameters,\n",
    "    num_city=127,\n",
    "    mod=ABC,\n",
    "    mod_ver=\"OriginalABC\",\n",
    "    problem=problem,\n",
    ")"
   ]
  },
  {
   "cell_type": "markdown",
   "metadata": {},
   "source": [
    "#### <span style=\"color:green; font-weight:bold;\">-Ibm qrng</span>\n"
   ]
  },
  {
   "cell_type": "code",
   "execution_count": null,
   "metadata": {},
   "outputs": [],
   "source": [
    "# Base directories\n",
    "base_starting_solution_dir = os.path.join(\"..\", \"starting_solution\", \"TSP\", \"Bier127\")\n",
    "base_history_dir = os.path.join(\"..\", \"history\", \"ABC\", \"tsp\", \"Bier127\", \"Ibm\")\n",
    "\n",
    "run_optimization_trials(\n",
    "    base_starting_solution_dir=base_starting_solution_dir,\n",
    "    base_history_dir=base_history_dir,\n",
    "    num_trials=num_trials,\n",
    "    rng_type=\"Ibm\",\n",
    "    parameters=parameters,\n",
    "    num_city=127,\n",
    "    mod=ABC,\n",
    "    mod_ver=\"OriginalABC\",\n",
    "    problem=problem,\n",
    ")"
   ]
  },
  {
   "cell_type": "markdown",
   "metadata": {},
   "source": [
    "#### <span style=\"color:green; font-weight:bold;\">-Beam splitter qrng</span>\n"
   ]
  },
  {
   "cell_type": "code",
   "execution_count": null,
   "metadata": {},
   "outputs": [],
   "source": [
    "# Base directories\n",
    "base_starting_solution_dir = os.path.join(\"..\", \"starting_solution\", \"TSP\", \"Bier127\")\n",
    "base_history_dir = os.path.join(\"..\", \"history\", \"ABC\", \"tsp\", \"Bier127\", \"BeamSplitter\")\n",
    "\n",
    "run_optimization_trials(\n",
    "    base_starting_solution_dir=base_starting_solution_dir,\n",
    "    base_history_dir=base_history_dir,\n",
    "    num_trials=num_trials,\n",
    "    rng_type=\"BeamSplitter\",\n",
    "    parameters=parameters,\n",
    "    num_city=127,\n",
    "    mod=ABC,\n",
    "    mod_ver=\"OriginalABC\",\n",
    "    problem=problem,\n",
    ")"
   ]
  },
  {
   "cell_type": "markdown",
   "metadata": {},
   "source": [
    "### <span style=\"color:yellow; font-weight:bold;\">Eil101.tsp</span>\n"
   ]
  },
  {
   "cell_type": "code",
   "execution_count": null,
   "metadata": {},
   "outputs": [],
   "source": [
    "filePath1 = os.path.join(\"..\",\"TSP_problem\",\"eil101.tsp\")\n",
    "coordinates1 = load_tsplib_tsp(filePath1)\n",
    "data, num_cities = prepare_tsp_data(coordinates1)"
   ]
  },
  {
   "cell_type": "code",
   "execution_count": null,
   "metadata": {},
   "outputs": [],
   "source": [
    "distance_matrix = create_distance_matrix(coordinates1)\n",
    "print(distance_matrix)"
   ]
  },
  {
   "cell_type": "code",
   "execution_count": null,
   "metadata": {},
   "outputs": [],
   "source": [
    "# Create the problem instance\n",
    "bounds = PermutationVar(valid_set=list(range(0, num_cities)), name=\"per_var\")\n",
    "problem = TspProblem(bounds=bounds, minmax=\"min\", data=data, save_population=True)"
   ]
  },
  {
   "cell_type": "markdown",
   "metadata": {},
   "source": [
    "#### <span style=\"color:green; font-weight:bold;\">-Mersene Twister</span>\n"
   ]
  },
  {
   "cell_type": "code",
   "execution_count": null,
   "metadata": {},
   "outputs": [],
   "source": [
    "# Base directories\n",
    "base_starting_solution_dir = os.path.join(\"..\", \"starting_solution\", \"TSP\", \"Eil101\")\n",
    "base_history_dir = os.path.join(\"..\", \"history\", \"ABC\", \"tsp\", \"Eil101\", \"Mt19937\")\n",
    "\n",
    "run_optimization_trials(\n",
    "    base_starting_solution_dir=base_starting_solution_dir,\n",
    "    base_history_dir=base_history_dir,\n",
    "    num_trials=num_trials,\n",
    "    rng_type=\"Mt19937\",\n",
    "    parameters=parameters,\n",
    "    num_city=101,\n",
    "    mod=ABC,\n",
    "    mod_ver=\"OriginalABC\",\n",
    "    problem=problem,\n",
    ")"
   ]
  },
  {
   "cell_type": "markdown",
   "metadata": {},
   "source": [
    "#### <span style=\"color:green; font-weight:bold;\">-Quasirandom</span>\n"
   ]
  },
  {
   "cell_type": "code",
   "execution_count": null,
   "metadata": {},
   "outputs": [],
   "source": [
    "# Base directories\n",
    "base_starting_solution_dir = os.path.join(\"..\", \"starting_solution\", \"TSP\", \"Eil101\")\n",
    "base_history_dir = os.path.join(\"..\", \"history\", \"ABC\", \"tsp\", \"Eil101\", \"QuasiRandom\")\n",
    "\n",
    "run_optimization_trials(\n",
    "    base_starting_solution_dir=base_starting_solution_dir,\n",
    "    base_history_dir=base_history_dir,\n",
    "    num_trials=num_trials,\n",
    "    rng_type=\"QuasiRandom\",\n",
    "    parameters=parameters,\n",
    "    num_city=101,\n",
    "    mod=ABC,\n",
    "    mod_ver=\"OriginalABC\",\n",
    "    problem=problem,\n",
    ")"
   ]
  },
  {
   "cell_type": "markdown",
   "metadata": {},
   "source": [
    "#### <span style=\"color:green; font-weight:bold;\">-Ibm qrng</span>\n"
   ]
  },
  {
   "cell_type": "code",
   "execution_count": null,
   "metadata": {},
   "outputs": [],
   "source": [
    "# Base directories\n",
    "base_starting_solution_dir = os.path.join(\"..\", \"starting_solution\", \"TSP\", \"Eil101\")\n",
    "base_history_dir = os.path.join(\"..\", \"history\", \"ABC\", \"tsp\", \"Eil101\", \"Ibm\")\n",
    "\n",
    "run_optimization_trials(\n",
    "    base_starting_solution_dir=base_starting_solution_dir,\n",
    "    base_history_dir=base_history_dir,\n",
    "    num_trials=num_trials,\n",
    "    rng_type=\"Ibm\",\n",
    "    parameters=parameters,\n",
    "    num_city=101,\n",
    "    mod=ABC,\n",
    "    mod_ver=\"OriginalABC\",\n",
    "    problem=problem,\n",
    ")"
   ]
  },
  {
   "cell_type": "markdown",
   "metadata": {},
   "source": [
    "#### <span style=\"color:green; font-weight:bold;\">-Beam splitter qrng</span>\n"
   ]
  },
  {
   "cell_type": "code",
   "execution_count": null,
   "metadata": {},
   "outputs": [],
   "source": [
    "# Base directories\n",
    "base_starting_solution_dir = os.path.join(\"..\", \"starting_solution\", \"TSP\", \"Eil101\")\n",
    "base_history_dir = os.path.join(\"..\", \"history\", \"ABC\", \"tsp\", \"Eil101\", \"BeamSplitter\")\n",
    "\n",
    "run_optimization_trials(\n",
    "    base_starting_solution_dir=base_starting_solution_dir,\n",
    "    base_history_dir=base_history_dir,\n",
    "    num_trials=num_trials,\n",
    "    rng_type=\"BeamSplitter\",\n",
    "    parameters=parameters,\n",
    "    num_city=101,\n",
    "    mod=ABC,\n",
    "    mod_ver=\"OriginalABC\",\n",
    "    problem=problem,\n",
    ")"
   ]
  },
  {
   "cell_type": "markdown",
   "metadata": {},
   "source": [
    "### <span style=\"color:yellow; font-weight:bold;\">Pr76.tsp</span>\n"
   ]
  },
  {
   "cell_type": "code",
   "execution_count": null,
   "metadata": {},
   "outputs": [],
   "source": [
    "filePath1 = os.path.join(\"..\",\"TSP_problem\",\"pr76.tsp\")\n",
    "coordinates1 = load_tsplib_tsp(filePath1)\n",
    "data, num_cities = prepare_tsp_data(coordinates1)"
   ]
  },
  {
   "cell_type": "code",
   "execution_count": null,
   "metadata": {},
   "outputs": [],
   "source": [
    "distance_matrix = create_distance_matrix(coordinates1)\n",
    "print(distance_matrix)"
   ]
  },
  {
   "cell_type": "code",
   "execution_count": null,
   "metadata": {},
   "outputs": [],
   "source": [
    "# Create the problem instance\n",
    "bounds = PermutationVar(valid_set=list(range(0, num_cities)), name=\"per_var\")\n",
    "problem = TspProblem(bounds=bounds, minmax=\"min\", data=data, save_population=True)"
   ]
  },
  {
   "cell_type": "markdown",
   "metadata": {},
   "source": [
    "#### <span style=\"color:green; font-weight:bold;\">-Mersene Twister</span>\n"
   ]
  },
  {
   "cell_type": "code",
   "execution_count": null,
   "metadata": {},
   "outputs": [],
   "source": [
    "# Base directories\n",
    "base_starting_solution_dir = os.path.join(\"..\", \"starting_solution\", \"TSP\", \"Pr76\")\n",
    "base_history_dir = os.path.join(\"..\", \"history\", \"ABC\", \"tsp\", \"Pr76\", \"Mt19937\")\n",
    "\n",
    "run_optimization_trials(\n",
    "    base_starting_solution_dir=base_starting_solution_dir,\n",
    "    base_history_dir=base_history_dir,\n",
    "    num_trials=num_trials,\n",
    "    rng_type=\"Mt19937\",\n",
    "    parameters=parameters,\n",
    "    num_city=76,\n",
    "    mod=ABC,\n",
    "    mod_ver=\"OriginalABC\",\n",
    "    problem=problem,\n",
    ")"
   ]
  },
  {
   "cell_type": "markdown",
   "metadata": {},
   "source": [
    "#### <span style=\"color:green; font-weight:bold;\">-Quasirandom</span>\n"
   ]
  },
  {
   "cell_type": "code",
   "execution_count": null,
   "metadata": {},
   "outputs": [],
   "source": [
    "# Base directories\n",
    "base_starting_solution_dir = os.path.join(\"..\", \"starting_solution\", \"TSP\", \"Pr76\")\n",
    "base_history_dir = os.path.join(\"..\", \"history\", \"ABC\", \"tsp\", \"Pr76\", \"QuasiRandom\")\n",
    "\n",
    "run_optimization_trials(\n",
    "    base_starting_solution_dir=base_starting_solution_dir,\n",
    "    base_history_dir=base_history_dir,\n",
    "    num_trials=num_trials,\n",
    "    rng_type=\"QuasiRandom\",\n",
    "    parameters=parameters,\n",
    "    num_city=76,\n",
    "    mod=ABC,\n",
    "    mod_ver=\"OriginalABC\",\n",
    "    problem=problem,\n",
    ")"
   ]
  },
  {
   "cell_type": "markdown",
   "metadata": {},
   "source": [
    "#### <span style=\"color:green; font-weight:bold;\">-Ibm qrng</span>\n"
   ]
  },
  {
   "cell_type": "code",
   "execution_count": null,
   "metadata": {},
   "outputs": [],
   "source": [
    "# Base directories\n",
    "base_starting_solution_dir = os.path.join(\"..\", \"starting_solution\", \"TSP\", \"Pr76\")\n",
    "base_history_dir = os.path.join(\"..\", \"history\", \"ABC\", \"tsp\", \"Pr76\", \"Ibm\")\n",
    "\n",
    "run_optimization_trials(\n",
    "    base_starting_solution_dir=base_starting_solution_dir,\n",
    "    base_history_dir=base_history_dir,\n",
    "    num_trials=num_trials,\n",
    "    rng_type=\"Ibm\",\n",
    "    parameters=parameters,\n",
    "    num_city=76,\n",
    "    mod=ABC,\n",
    "    mod_ver=\"OriginalABC\",\n",
    "    problem=problem,\n",
    ")"
   ]
  },
  {
   "cell_type": "markdown",
   "metadata": {},
   "source": [
    "#### <span style=\"color:green; font-weight:bold;\">-Beam splitter qrng</span>\n"
   ]
  },
  {
   "cell_type": "code",
   "execution_count": null,
   "metadata": {},
   "outputs": [],
   "source": [
    "# Base directories\n",
    "base_starting_solution_dir = os.path.join(\"..\", \"starting_solution\", \"TSP\", \"Pr76\")\n",
    "base_history_dir = os.path.join(\"..\", \"history\", \"ABC\", \"tsp\", \"Pr76\", \"BeamSplitter\")\n",
    "\n",
    "run_optimization_trials(\n",
    "    base_starting_solution_dir=base_starting_solution_dir,\n",
    "    base_history_dir=base_history_dir,\n",
    "    num_trials=num_trials,\n",
    "    rng_type=\"BeamSplitter\",\n",
    "    parameters=parameters,\n",
    "    num_city=76,\n",
    "    mod=ABC,\n",
    "    mod_ver=\"OriginalABC\",\n",
    "    problem=problem,\n",
    ")"
   ]
  },
  {
   "cell_type": "markdown",
   "metadata": {},
   "source": [
    "### <span style=\"color:yellow; font-weight:bold;\">St70.tsp</span>\n"
   ]
  },
  {
   "cell_type": "code",
   "execution_count": null,
   "metadata": {},
   "outputs": [],
   "source": [
    "filePath1 = os.path.join(\"..\",\"TSP_problem\",\"st70.tsp\")\n",
    "coordinates1 = load_tsplib_tsp(filePath1)\n",
    "data, num_cities = prepare_tsp_data(coordinates1)"
   ]
  },
  {
   "cell_type": "code",
   "execution_count": null,
   "metadata": {},
   "outputs": [],
   "source": [
    "distance_matrix = create_distance_matrix(coordinates1)\n",
    "print(distance_matrix)"
   ]
  },
  {
   "cell_type": "code",
   "execution_count": null,
   "metadata": {},
   "outputs": [],
   "source": [
    "# Create the problem instance\n",
    "bounds = PermutationVar(valid_set=list(range(0, num_cities)), name=\"per_var\")\n",
    "problem = TspProblem(bounds=bounds, minmax=\"min\", data=data, save_population=True)"
   ]
  },
  {
   "cell_type": "markdown",
   "metadata": {},
   "source": [
    "#### <span style=\"color:green; font-weight:bold;\">-Mersene Twister</span>\n"
   ]
  },
  {
   "cell_type": "code",
   "execution_count": null,
   "metadata": {},
   "outputs": [],
   "source": [
    "# Base directories\n",
    "base_starting_solution_dir = os.path.join(\"..\", \"starting_solution\", \"TSP\", \"St70\")\n",
    "base_history_dir = os.path.join(\"..\", \"history\", \"ABC\", \"tsp\", \"St70\", \"Mt19937\")\n",
    "\n",
    "run_optimization_trials(\n",
    "    base_starting_solution_dir=base_starting_solution_dir,\n",
    "    base_history_dir=base_history_dir,\n",
    "    num_trials=num_trials,\n",
    "    rng_type=\"Mt19937\",\n",
    "    parameters=parameters,\n",
    "    num_city=70,\n",
    "    mod=ABC,\n",
    "    mod_ver=\"OriginalABC\",\n",
    "    problem=problem,\n",
    ")"
   ]
  },
  {
   "cell_type": "markdown",
   "metadata": {},
   "source": [
    "#### <span style=\"color:green; font-weight:bold;\">-Quasirandom</span>\n"
   ]
  },
  {
   "cell_type": "code",
   "execution_count": null,
   "metadata": {},
   "outputs": [],
   "source": [
    "# Base directories\n",
    "base_starting_solution_dir = os.path.join(\"..\", \"starting_solution\", \"TSP\", \"St70\")\n",
    "base_history_dir = os.path.join(\"..\", \"history\", \"ABC\", \"tsp\", \"St70\", \"QuasiRandom\")\n",
    "\n",
    "run_optimization_trials(\n",
    "    base_starting_solution_dir=base_starting_solution_dir,\n",
    "    base_history_dir=base_history_dir,\n",
    "    num_trials=num_trials,\n",
    "    rng_type=\"QuasiRandom\",\n",
    "    parameters=parameters,\n",
    "    num_city=70,\n",
    "    mod=ABC,\n",
    "    mod_ver=\"OriginalABC\",\n",
    "    problem=problem,\n",
    ")"
   ]
  },
  {
   "cell_type": "markdown",
   "metadata": {},
   "source": [
    "#### <span style=\"color:green; font-weight:bold;\">-Ibm qrng</span>\n"
   ]
  },
  {
   "cell_type": "code",
   "execution_count": null,
   "metadata": {},
   "outputs": [],
   "source": [
    "# Base directories\n",
    "base_starting_solution_dir = os.path.join(\"..\", \"starting_solution\", \"TSP\", \"St70\")\n",
    "base_history_dir = os.path.join(\"..\", \"history\", \"ABC\", \"tsp\", \"St70\", \"Ibm\")\n",
    "\n",
    "run_optimization_trials(\n",
    "    base_starting_solution_dir=base_starting_solution_dir,\n",
    "    base_history_dir=base_history_dir,\n",
    "    num_trials=num_trials,\n",
    "    rng_type=\"Ibm\",\n",
    "    parameters=parameters,\n",
    "    num_city=70,\n",
    "    mod=ABC,\n",
    "    mod_ver=\"OriginalABC\",\n",
    "    problem=problem,\n",
    ")"
   ]
  },
  {
   "cell_type": "markdown",
   "metadata": {},
   "source": [
    "#### <span style=\"color:green; font-weight:bold;\">-Beam splitter qrng</span>\n"
   ]
  },
  {
   "cell_type": "code",
   "execution_count": null,
   "metadata": {},
   "outputs": [],
   "source": [
    "# Base directories\n",
    "base_starting_solution_dir = os.path.join(\"..\", \"starting_solution\", \"TSP\", \"St70\")\n",
    "base_history_dir = os.path.join(\"..\", \"history\", \"ABC\", \"tsp\", \"St70\", \"BeamSplitter\")\n",
    "\n",
    "run_optimization_trials(\n",
    "    base_starting_solution_dir=base_starting_solution_dir,\n",
    "    base_history_dir=base_history_dir,\n",
    "    num_trials=num_trials,\n",
    "    rng_type=\"BeamSplitter\",\n",
    "    parameters=parameters,\n",
    "    num_city=70,\n",
    "    mod=ABC,\n",
    "    mod_ver=\"OriginalABC\",\n",
    "    problem=problem,\n",
    ")"
   ]
  }
 ],
 "metadata": {
  "kernelspec": {
   "display_name": "Python 3",
   "language": "python",
   "name": "python3"
  },
  "language_info": {
   "codemirror_mode": {
    "name": "ipython",
    "version": 3
   },
   "file_extension": ".py",
   "mimetype": "text/x-python",
   "name": "python",
   "nbconvert_exporter": "python",
   "pygments_lexer": "ipython3",
   "version": "3.11.9"
  }
 },
 "nbformat": 4,
 "nbformat_minor": 2
}
