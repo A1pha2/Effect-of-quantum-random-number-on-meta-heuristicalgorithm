{
 "cells": [
  {
   "cell_type": "code",
   "execution_count": 4,
   "metadata": {},
   "outputs": [],
   "source": [
    "# read number files\n",
    "numbers = list(map(int, open(\"../mersenne_twister_rng/random_number_sample/generated_numbers.txt\", \"r\").read().splitlines()))"
   ]
  },
  {
   "cell_type": "code",
   "execution_count": 5,
   "metadata": {},
   "outputs": [],
   "source": [
    "def writeFile(numbers, generator, seed = 0, type =\"d\", numbit = 30, target_path = \"./small_numbers_with_header.txt\"):\n",
    "    file1 = open(target_path, \"w\") \n",
    "    headers = [f\"#==============================================\\n\",\n",
    "               f\"# generator {generator}    seed = {seed}\\n\",\n",
    "               f\"#==============================================\\n\",\n",
    "               f\"type: {type}\\n\",\n",
    "               f\"count: {len(numbers)}\\n\",\n",
    "               f\"numbit: {numbit}\\n\"]\n",
    "\n",
    "    # encoded_num = [\"{:032b}\".format(x) for x in numbers]\n",
    "    encoded_num = [f\"{str(x)}\\n\" for x in numbers]\n",
    "    file1.writelines(headers)\n",
    "    file1.writelines(encoded_num)\n",
    "    file1.close()"
   ]
  },
  {
   "cell_type": "code",
   "execution_count": 6,
   "metadata": {},
   "outputs": [],
   "source": [
    "writeFile(numbers, generator = \"MT19937\", numbit = 32)"
   ]
  },
  {
   "cell_type": "code",
   "execution_count": null,
   "metadata": {},
   "outputs": [],
   "source": []
  }
 ],
 "metadata": {
  "kernelspec": {
   "display_name": "Python 3",
   "language": "python",
   "name": "python3"
  },
  "language_info": {
   "codemirror_mode": {
    "name": "ipython",
    "version": 3
   },
   "file_extension": ".py",
   "mimetype": "text/x-python",
   "name": "python",
   "nbconvert_exporter": "python",
   "pygments_lexer": "ipython3",
   "version": "3.12.5"
  }
 },
 "nbformat": 4,
 "nbformat_minor": 2
}
